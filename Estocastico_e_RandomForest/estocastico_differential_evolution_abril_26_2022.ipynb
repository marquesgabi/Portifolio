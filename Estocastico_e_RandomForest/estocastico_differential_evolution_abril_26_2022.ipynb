{
  "nbformat": 4,
  "nbformat_minor": 0,
  "metadata": {
    "colab": {
      "name": "estocastico_differential_evolution_abril_26_2022.ipynb",
      "provenance": [],
      "include_colab_link": true
    },
    "kernelspec": {
      "name": "python3",
      "display_name": "Python 3"
    },
    "language_info": {
      "name": "python"
    }
  },
  "cells": [
    {
      "cell_type": "markdown",
      "metadata": {
        "id": "view-in-github",
        "colab_type": "text"
      },
      "source": [
        "<a href=\"https://colab.research.google.com/github/marquesgabi/Portifolio/blob/main/Estocastico_e_RandomForest/estocastico_differential_evolution_abril_26_2022.ipynb\" target=\"_parent\"><img src=\"https://colab.research.google.com/assets/colab-badge.svg\" alt=\"Open In Colab\"/></a>"
      ]
    },
    {
      "cell_type": "code",
      "execution_count": null,
      "metadata": {
        "colab": {
          "base_uri": "https://localhost:8080/"
        },
        "id": "1rGFZ2mcOhSN",
        "outputId": "cd838b3d-b114-4a0f-8fe1-f9e23da36425"
      },
      "outputs": [
        {
          "output_type": "execute_result",
          "data": {
            "text/plain": [
              "(array([3., 2.]), 3.944304526105059e-31)"
            ]
          },
          "metadata": {},
          "execution_count": 3
        }
      ],
      "source": [
        "from scipy.optimize import differential_evolution\n",
        "def fun(x):\n",
        "  z=(x[0]-3)**2+(x[1]-2)**2\n",
        "  return z\n",
        "bounds = [(-5,5), (-5, 5)]\n",
        "result = differential_evolution(fun, bounds)\n",
        "result.x, result.fun"
      ]
    }
  ]
}