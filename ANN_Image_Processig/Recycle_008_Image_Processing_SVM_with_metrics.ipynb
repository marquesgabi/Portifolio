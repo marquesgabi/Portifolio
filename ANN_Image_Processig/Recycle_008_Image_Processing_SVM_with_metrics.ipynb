{
  "nbformat": 4,
  "nbformat_minor": 0,
  "metadata": {
    "colab": {
      "name": "Recycle_008_Image_Processing_SVM_with_metrics.ipynb",
      "provenance": [],
      "include_colab_link": true
    },
    "kernelspec": {
      "name": "python3",
      "display_name": "Python 3"
    },
    "language_info": {
      "name": "python"
    }
  },
  "cells": [
    {
      "cell_type": "markdown",
      "metadata": {
        "id": "view-in-github",
        "colab_type": "text"
      },
      "source": [
        "<a href=\"https://colab.research.google.com/github/marquesgabi/Portifolio/blob/main/ANN_Image_Processig/Recycle_008_Image_Processing_SVM_with_metrics.ipynb\" target=\"_parent\"><img src=\"https://colab.research.google.com/assets/colab-badge.svg\" alt=\"Open In Colab\"/></a>"
      ]
    },
    {
      "cell_type": "code",
      "metadata": {
        "id": "VumF8Fkd4B2M"
      },
      "source": [
        "from matplotlib import pyplot as plt\n",
        "from sklearn.svm import SVC\n",
        "from sklearn import preprocessing\n",
        "from sklearn.model_selection import train_test_split\n",
        "from sklearn.metrics import classification_report\n",
        "import numpy as np\n",
        "import pandas as pd\n",
        "import cv2\n",
        "import random\n",
        "import zipfile"
      ],
      "execution_count": 1,
      "outputs": []
    },
    {
      "cell_type": "code",
      "metadata": {
        "colab": {
          "base_uri": "https://localhost:8080/"
        },
        "id": "G6zkIELM4FGk",
        "outputId": "a27c4d5b-e1c5-4dac-d643-6e31f2e18243"
      },
      "source": [
        "!git clone https://github.com/ucfilho/ANN_2021_01/\n",
        "%cd ANN_2021_01"
      ],
      "execution_count": 2,
      "outputs": [
        {
          "output_type": "stream",
          "name": "stdout",
          "text": [
            "fatal: destination path 'ANN_2021_01' already exists and is not an empty directory.\n",
            "/content/ANN_2021_01\n"
          ]
        }
      ]
    },
    {
      "cell_type": "code",
      "metadata": {
        "id": "61YkUwT-4Sli"
      },
      "source": [
        "file_name = zipfile.ZipFile('trash.zip', 'r')\n",
        "file_name.extractall()"
      ],
      "execution_count": 3,
      "outputs": []
    },
    {
      "cell_type": "code",
      "metadata": {
        "id": "PgVpmRi7mRlb"
      },
      "source": [
        "# all images are load in variable x...\n",
        "FILE='trash.zip'\n",
        "Img_Size = 50\n",
        "img_name=[]\n",
        "x_gray=[]\n",
        "x_original = []\n",
        "with zipfile.ZipFile(FILE, \"r\") as f:\n",
        "    for name in f.namelist():\n",
        "        img_name.append(name)\n",
        "        #x_gray.append(cv2.imread(name, 0))\n",
        "        x_gray.append(cv2.resize(cv2.imread(name, 0),(Img_Size,Img_Size)))"
      ],
      "execution_count": 4,
      "outputs": []
    },
    {
      "cell_type": "code",
      "metadata": {
        "id": "Rw0LeVUxb69_"
      },
      "source": [
        "y_names = []\n",
        "for yy in img_name:\n",
        "  name = yy[0]+yy[1]+yy[2]\n",
        "  y_names.append(name)"
      ],
      "execution_count": 5,
      "outputs": []
    },
    {
      "cell_type": "code",
      "metadata": {
        "id": "kHXoHE64b74V"
      },
      "source": [
        "unique_list = []    \n",
        "for yy in y_names:\n",
        "  if yy not in unique_list:\n",
        "    unique_list.append(yy)"
      ],
      "execution_count": 6,
      "outputs": []
    },
    {
      "cell_type": "code",
      "source": [
        "img=plt.imread(img_name[600])\n",
        "plt.axis(\"off\")\n",
        "plt.imshow(x_gray[600])"
      ],
      "metadata": {
        "id": "C0ljYtZiDxkf",
        "outputId": "743ec8b1-09ac-4e4d-99de-43bfd24e46f8",
        "colab": {
          "base_uri": "https://localhost:8080/",
          "height": 265
        }
      },
      "execution_count": 7,
      "outputs": [
        {
          "output_type": "execute_result",
          "data": {
            "text/plain": [
              "<matplotlib.image.AxesImage at 0x7fe22bc43150>"
            ]
          },
          "metadata": {},
          "execution_count": 7
        },
        {
          "output_type": "display_data",
          "data": {
            "text/plain": [
              "<Figure size 432x288 with 1 Axes>"
            ],
            "image/png": "[encoded data removed]"
          },
          "metadata": {
            "needs_background": "light"
          }
        }
      ]
    },
    {
      "cell_type": "code",
      "metadata": {
        "id": "BF9OQntxcC1T"
      },
      "source": [
        "n = len(unique_list)\n",
        "y = []\n",
        "for yy in y_names:\n",
        "  for i in range(n):\n",
        "    if(yy == unique_list[i]):\n",
        "      y.append(i)"
      ],
      "execution_count": 8,
      "outputs": []
    },
    {
      "cell_type": "code",
      "metadata": {
        "id": "CkWUcS2mqT9W"
      },
      "source": [
        "x_data = []\n",
        "for xx in x_gray:\n",
        "  x_data.append(xx.ravel())\n",
        "\n",
        "X = pd.DataFrame(x_data)"
      ],
      "execution_count": 9,
      "outputs": []
    },
    {
      "cell_type": "code",
      "metadata": {
        "id": "VICxUJ-rugEF"
      },
      "source": [
        "X_train, X_test, y_train, y_test = train_test_split(X,y,test_size=0.20, shuffle=True, random_state=3)"
      ],
      "execution_count": 10,
      "outputs": []
    },
    {
      "cell_type": "code",
      "metadata": {
        "id": "FZc-xzJXtfVE"
      },
      "source": [
        "scaler_X = preprocessing.MinMaxScaler((-1,1)).fit(X)\n",
        "X_train = scaler_X.transform(X_train)\n",
        "X_test = scaler_X.transform(X_test)"
      ],
      "execution_count": 11,
      "outputs": []
    },
    {
      "cell_type": "code",
      "metadata": {
        "id": "IlvS0BKCvis4",
        "colab": {
          "base_uri": "https://localhost:8080/"
        },
        "outputId": "0d92cb63-d328-42ab-8479-0bf63b0bc698"
      },
      "source": [
        "model = SVC()\n",
        "model.fit(X_train, y_train)"
      ],
      "execution_count": 12,
      "outputs": [
        {
          "output_type": "execute_result",
          "data": {
            "text/plain": [
              "SVC()"
            ]
          },
          "metadata": {},
          "execution_count": 12
        }
      ]
    },
    {
      "cell_type": "code",
      "metadata": {
        "id": "LAe9k5PXv3sr"
      },
      "source": [
        "# usa a rede neural treina em calculos para treino e teste\n",
        "y_calc_train=model.predict(X_train)\n",
        "y_calc_test=model.predict(X_test)"
      ],
      "execution_count": 13,
      "outputs": []
    },
    {
      "cell_type": "code",
      "metadata": {
        "colab": {
          "base_uri": "https://localhost:8080/"
        },
        "id": "85MAJRWiwA8j",
        "outputId": "76504a74-a28a-4499-9992-f3e3bf50bafb"
      },
      "source": [
        "df = pd.DataFrame({'true':y_train,'calc':y_calc_train})\n",
        "print(pd.crosstab(df['true'],df['calc'])) "
      ],
      "execution_count": 14,
      "outputs": [
        {
          "output_type": "stream",
          "name": "stdout",
          "text": [
            "calc   0   1   2   3   4   5\n",
            "true                        \n",
            "0     80   1   2   0   4   0\n",
            "1      1  71   2   0   4   1\n",
            "2      0   7  86   0   3   1\n",
            "3      0   1   1  71  11   1\n",
            "4      1   1   5   1  77   1\n",
            "5      1   1   2   0   5  95\n"
          ]
        }
      ]
    },
    {
      "cell_type": "code",
      "metadata": {
        "colab": {
          "base_uri": "https://localhost:8080/"
        },
        "id": "iF_RMr19wDQs",
        "outputId": "df8727a5-e27a-4cf2-9b0e-1e8a7980865b"
      },
      "source": [
        "df = pd.DataFrame({'true':y_test,'calc':y_calc_test})\n",
        "print(pd.crosstab(df['true'],df['calc'])) "
      ],
      "execution_count": 15,
      "outputs": [
        {
          "output_type": "stream",
          "name": "stdout",
          "text": [
            "calc   0  1  2   3   4  5\n",
            "true                     \n",
            "0     19  0  2   0   2  2\n",
            "1      3  5  9   2   5  1\n",
            "2      2  3  9   2   5  3\n",
            "3      3  0  2  10   4  0\n",
            "4      5  1  2   1  16  1\n",
            "5      1  3  2   0   1  9\n"
          ]
        }
      ]
    },
    {
      "cell_type": "code",
      "metadata": {
        "colab": {
          "base_uri": "https://localhost:8080/"
        },
        "id": "O_tqtB5AwtDl",
        "outputId": "e11a245a-c5e1-4cf9-d29f-5cb639c58a68"
      },
      "source": [
        "unique_list"
      ],
      "execution_count": 16,
      "outputs": [
        {
          "output_type": "execute_result",
          "data": {
            "text/plain": [
              "['car', 'gla', 'met', 'pap', 'pla', 'tra']"
            ]
          },
          "metadata": {},
          "execution_count": 16
        }
      ]
    },
    {
      "cell_type": "code",
      "metadata": {
        "colab": {
          "base_uri": "https://localhost:8080/"
        },
        "id": "FT3aV4igcOzU",
        "outputId": "cb3b6422-ed0f-453c-f476-c259a7a1fa78"
      },
      "source": [
        "y_true = y_test\n",
        "y_pred = y_calc_test\n",
        "target_names = ['cardboard', 'glass', 'metal', 'paper', 'plastic', 'trash']\n",
        "print(classification_report(y_true, y_pred, target_names=target_names))"
      ],
      "execution_count": 17,
      "outputs": [
        {
          "output_type": "stream",
          "name": "stdout",
          "text": [
            "              precision    recall  f1-score   support\n",
            "\n",
            "   cardboard       0.58      0.76      0.66        25\n",
            "       glass       0.42      0.20      0.27        25\n",
            "       metal       0.35      0.38      0.36        24\n",
            "       paper       0.67      0.53      0.59        19\n",
            "     plastic       0.48      0.62      0.54        26\n",
            "       trash       0.56      0.56      0.56        16\n",
            "\n",
            "    accuracy                           0.50       135\n",
            "   macro avg       0.51      0.51      0.50       135\n",
            "weighted avg       0.50      0.50      0.49       135\n",
            "\n"
          ]
        }
      ]
    }
  ]
}