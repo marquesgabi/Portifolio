{
  "nbformat": 4,
  "nbformat_minor": 0,
  "metadata": {
    "colab": {
      "name": "Estudo de caso_Genial Invest_Raiana.ipynb",
      "provenance": [],
      "collapsed_sections": [
        "9qT3HzkEltU6"
      ],
      "include_colab_link": true
    },
    "kernelspec": {
      "name": "python3",
      "display_name": "Python 3"
    },
    "language_info": {
      "name": "python"
    }
  },
  "cells": [
    {
      "cell_type": "markdown",
      "metadata": {
        "id": "view-in-github",
        "colab_type": "text"
      },
      "source": [
        "<a href=\"https://colab.research.google.com/github/marquesgabi/Portifolio/blob/main/Estudo_de_caso_Genial_Invest.ipynb\" target=\"_parent\"><img src=\"https://colab.research.google.com/assets/colab-badge.svg\" alt=\"Open In Colab\"/></a>"
      ]
    },
    {
      "cell_type": "markdown",
      "source": [
        "# **Resumo do estudo de caso**"
      ],
      "metadata": {
        "id": "0E9J5T22jRht"
      }
    },
    {
      "cell_type": "markdown",
      "source": [
        "Este estudo de caso é um problema de classificação composto de uma variável binária que deve ser avaliada por aprendizado supervisionado, sendo que são oito as variáveis independentes.\n",
        "\n",
        "Existe duas classes que estão relativamente balanceadas (% up= 42.45 e % down= 57.55) e 45312 registros  sem nenhuma informação ausente para as variáveis envolvidas. Assim, a acurácia é um bom comparativo entre modelos e não há a necessidade de amostragem para balancear as classes, ou seja uma amostragem aleatória com 70% dos dados para treino e 30% para teste é suficiente.\n",
        "\n",
        "A comparação entre os modelos Random Forest, árvore de decisão, regressão logística e XGBoost e LigthGBM sugere que o modelo Random Forest (considerando os hiperparâmetros padrões (defaut) destes modelos) é o mais promissor entre os modelos testados (acurácia e precisão em cerca de 90% sem otimização ou seleção de features)  e constitui uma boa escolha para um estudo mais detalhado.\n",
        "\n",
        "Após o ajuste dos hiperparâmetros do modelo Random Forest e seleção de variáveis, pôde-se obter um modelo Random Forest com hiperparâmetros otimizados e com 5 features (nswprice, date, nswdemand, period e day). A acurácia final obtida foi superior a 93%.\n",
        "\n",
        "\n",
        "\n",
        "\n",
        "---\n",
        "\n",
        "\n",
        "Criado por: Raiana Roland Seixas\n",
        "\n",
        "10/06/2022"
      ],
      "metadata": {
        "id": "0QbMaee3cxxn"
      }
    },
    {
      "cell_type": "markdown",
      "source": [
        "# **Bibliotecas usadas**"
      ],
      "metadata": {
        "id": "V3sQJtI5nqMH"
      }
    },
    {
      "cell_type": "code",
      "source": [
        "import numpy as np\n",
        "import pandas as pd\n",
        "import matplotlib.pyplot as plt\n",
        "from sklearn.preprocessing import MinMaxScaler\n",
        "from sklearn.model_selection import train_test_split\n",
        "from sklearn.metrics import accuracy_score, precision_score, recall_score, f1_score\n",
        "from sklearn import datasets as ds\n",
        "from sklearn.ensemble import RandomForestClassifier\n",
        "from sklearn import tree\n",
        "from sklearn.linear_model import LogisticRegression\n",
        "from lightgbm import LGBMClassifier\n",
        "from xgboost import XGBClassifier\n",
        "from xgboost import plot_importance\n",
        "from lightgbm import LGBMClassifier\n",
        "from sklearn.model_selection import GridSearchCV"
      ],
      "metadata": {
        "id": "CfycW6f9YoAe"
      },
      "execution_count": null,
      "outputs": []
    },
    {
      "cell_type": "markdown",
      "source": [
        "#**Coleta de dados**"
      ],
      "metadata": {
        "id": "_fVWF9clnBLW"
      }
    },
    {
      "cell_type": "code",
      "execution_count": null,
      "metadata": {
        "id": "bSL4xBDHYex4",
        "colab": {
          "base_uri": "https://localhost:8080/",
          "height": 423
        },
        "outputId": "3b869bc9-5a6c-44e6-b791-8f35621f6fcc"
      },
      "outputs": [
        {
          "output_type": "execute_result",
          "data": {
            "text/plain": [
              "         date day    period  nswprice  nswdemand  vicprice  vicdemand  \\\n",
              "0      0.0000   2  0.000000  0.056443   0.439155  0.003467   0.422915   \n",
              "1      0.0000   2  0.021277  0.051699   0.415055  0.003467   0.422915   \n",
              "2      0.0000   2  0.042553  0.051489   0.385004  0.003467   0.422915   \n",
              "3      0.0000   2  0.063830  0.045485   0.314639  0.003467   0.422915   \n",
              "4      0.0000   2  0.085106  0.042482   0.251116  0.003467   0.422915   \n",
              "...       ...  ..       ...       ...        ...       ...        ...   \n",
              "45307  0.9158   7  0.914894  0.044224   0.340672  0.003033   0.255049   \n",
              "45308  0.9158   7  0.936170  0.044884   0.355549  0.003072   0.241326   \n",
              "45309  0.9158   7  0.957447  0.043593   0.340970  0.002983   0.247799   \n",
              "45310  0.9158   7  0.978723  0.066651   0.329366  0.004630   0.345417   \n",
              "45311  0.9158   7  1.000000  0.050679   0.288753  0.003542   0.355256   \n",
              "\n",
              "       transfer class  target  \n",
              "0      0.414912    UP       1  \n",
              "1      0.414912    UP       1  \n",
              "2      0.414912    UP       1  \n",
              "3      0.414912    UP       1  \n",
              "4      0.414912  DOWN       0  \n",
              "...         ...   ...     ...  \n",
              "45307  0.405263  DOWN       0  \n",
              "45308  0.420614  DOWN       0  \n",
              "45309  0.362281  DOWN       0  \n",
              "45310  0.206579    UP       1  \n",
              "45311  0.231140  DOWN       0  \n",
              "\n",
              "[45312 rows x 10 columns]"
            ],
            "text/html": [
              "\n",
              "  <div id=\"df-54915c65-96a1-4384-8bdf-e6756605a447\">\n",
              "    <div class=\"colab-df-container\">\n",
              "      <div>\n",
              "<style scoped>\n",
              "    .dataframe tbody tr th:only-of-type {\n",
              "        vertical-align: middle;\n",
              "    }\n",
              "\n",
              "    .dataframe tbody tr th {\n",
              "        vertical-align: top;\n",
              "    }\n",
              "\n",
              "    .dataframe thead th {\n",
              "        text-align: right;\n",
              "    }\n",
              "</style>\n",
              "<table border=\"1\" class=\"dataframe\">\n",
              "  <thead>\n",
              "    <tr style=\"text-align: right;\">\n",
              "      <th></th>\n",
              "      <th>date</th>\n",
              "      <th>day</th>\n",
              "      <th>period</th>\n",
              "      <th>nswprice</th>\n",
              "      <th>nswdemand</th>\n",
              "      <th>vicprice</th>\n",
              "      <th>vicdemand</th>\n",
              "      <th>transfer</th>\n",
              "      <th>class</th>\n",
              "      <th>target</th>\n",
              "    </tr>\n",
              "  </thead>\n",
              "  <tbody>\n",
              "    <tr>\n",
              "      <th>0</th>\n",
              "      <td>0.0000</td>\n",
              "      <td>2</td>\n",
              "      <td>0.000000</td>\n",
              "      <td>0.056443</td>\n",
              "      <td>0.439155</td>\n",
              "      <td>0.003467</td>\n",
              "      <td>0.422915</td>\n",
              "      <td>0.414912</td>\n",
              "      <td>UP</td>\n",
              "      <td>1</td>\n",
              "    </tr>\n",
              "    <tr>\n",
              "      <th>1</th>\n",
              "      <td>0.0000</td>\n",
              "      <td>2</td>\n",
              "      <td>0.021277</td>\n",
              "      <td>0.051699</td>\n",
              "      <td>0.415055</td>\n",
              "      <td>0.003467</td>\n",
              "      <td>0.422915</td>\n",
              "      <td>0.414912</td>\n",
              "      <td>UP</td>\n",
              "      <td>1</td>\n",
              "    </tr>\n",
              "    <tr>\n",
              "      <th>2</th>\n",
              "      <td>0.0000</td>\n",
              "      <td>2</td>\n",
              "      <td>0.042553</td>\n",
              "      <td>0.051489</td>\n",
              "      <td>0.385004</td>\n",
              "      <td>0.003467</td>\n",
              "      <td>0.422915</td>\n",
              "      <td>0.414912</td>\n",
              "      <td>UP</td>\n",
              "      <td>1</td>\n",
              "    </tr>\n",
              "    <tr>\n",
              "      <th>3</th>\n",
              "      <td>0.0000</td>\n",
              "      <td>2</td>\n",
              "      <td>0.063830</td>\n",
              "      <td>0.045485</td>\n",
              "      <td>0.314639</td>\n",
              "      <td>0.003467</td>\n",
              "      <td>0.422915</td>\n",
              "      <td>0.414912</td>\n",
              "      <td>UP</td>\n",
              "      <td>1</td>\n",
              "    </tr>\n",
              "    <tr>\n",
              "      <th>4</th>\n",
              "      <td>0.0000</td>\n",
              "      <td>2</td>\n",
              "      <td>0.085106</td>\n",
              "      <td>0.042482</td>\n",
              "      <td>0.251116</td>\n",
              "      <td>0.003467</td>\n",
              "      <td>0.422915</td>\n",
              "      <td>0.414912</td>\n",
              "      <td>DOWN</td>\n",
              "      <td>0</td>\n",
              "    </tr>\n",
              "    <tr>\n",
              "      <th>...</th>\n",
              "      <td>...</td>\n",
              "      <td>...</td>\n",
              "      <td>...</td>\n",
              "      <td>...</td>\n",
              "      <td>...</td>\n",
              "      <td>...</td>\n",
              "      <td>...</td>\n",
              "      <td>...</td>\n",
              "      <td>...</td>\n",
              "      <td>...</td>\n",
              "    </tr>\n",
              "    <tr>\n",
              "      <th>45307</th>\n",
              "      <td>0.9158</td>\n",
              "      <td>7</td>\n",
              "      <td>0.914894</td>\n",
              "      <td>0.044224</td>\n",
              "      <td>0.340672</td>\n",
              "      <td>0.003033</td>\n",
              "      <td>0.255049</td>\n",
              "      <td>0.405263</td>\n",
              "      <td>DOWN</td>\n",
              "      <td>0</td>\n",
              "    </tr>\n",
              "    <tr>\n",
              "      <th>45308</th>\n",
              "      <td>0.9158</td>\n",
              "      <td>7</td>\n",
              "      <td>0.936170</td>\n",
              "      <td>0.044884</td>\n",
              "      <td>0.355549</td>\n",
              "      <td>0.003072</td>\n",
              "      <td>0.241326</td>\n",
              "      <td>0.420614</td>\n",
              "      <td>DOWN</td>\n",
              "      <td>0</td>\n",
              "    </tr>\n",
              "    <tr>\n",
              "      <th>45309</th>\n",
              "      <td>0.9158</td>\n",
              "      <td>7</td>\n",
              "      <td>0.957447</td>\n",
              "      <td>0.043593</td>\n",
              "      <td>0.340970</td>\n",
              "      <td>0.002983</td>\n",
              "      <td>0.247799</td>\n",
              "      <td>0.362281</td>\n",
              "      <td>DOWN</td>\n",
              "      <td>0</td>\n",
              "    </tr>\n",
              "    <tr>\n",
              "      <th>45310</th>\n",
              "      <td>0.9158</td>\n",
              "      <td>7</td>\n",
              "      <td>0.978723</td>\n",
              "      <td>0.066651</td>\n",
              "      <td>0.329366</td>\n",
              "      <td>0.004630</td>\n",
              "      <td>0.345417</td>\n",
              "      <td>0.206579</td>\n",
              "      <td>UP</td>\n",
              "      <td>1</td>\n",
              "    </tr>\n",
              "    <tr>\n",
              "      <th>45311</th>\n",
              "      <td>0.9158</td>\n",
              "      <td>7</td>\n",
              "      <td>1.000000</td>\n",
              "      <td>0.050679</td>\n",
              "      <td>0.288753</td>\n",
              "      <td>0.003542</td>\n",
              "      <td>0.355256</td>\n",
              "      <td>0.231140</td>\n",
              "      <td>DOWN</td>\n",
              "      <td>0</td>\n",
              "    </tr>\n",
              "  </tbody>\n",
              "</table>\n",
              "<p>45312 rows × 10 columns</p>\n",
              "</div>\n",
              "      <button class=\"colab-df-convert\" onclick=\"convertToInteractive('df-54915c65-96a1-4384-8bdf-e6756605a447')\"\n",
              "              title=\"Convert this dataframe to an interactive table.\"\n",
              "              style=\"display:none;\">\n",
              "        \n",
              "  <svg xmlns=\"http://www.w3.org/2000/svg\" height=\"24px\"viewBox=\"0 0 24 24\"\n",
              "       width=\"24px\">\n",
              "    <path d=\"M0 0h24v24H0V0z\" fill=\"none\"/>\n",
              "    <path d=\"M18.56 5.44l.94 2.06.94-2.06 2.06-.94-2.06-.94-.94-2.06-.94 2.06-2.06.94zm-11 1L8.5 8.5l.94-2.06 2.06-.94-2.06-.94L8.5 2.5l-.94 2.06-2.06.94zm10 10l.94 2.06.94-2.06 2.06-.94-2.06-.94-.94-2.06-.94 2.06-2.06.94z\"/><path d=\"M17.41 7.96l-1.37-1.37c-.4-.4-.92-.59-1.43-.59-.52 0-1.04.2-1.43.59L10.3 9.45l-7.72 7.72c-.78.78-.78 2.05 0 2.83L4 21.41c.39.39.9.59 1.41.59.51 0 1.02-.2 1.41-.59l7.78-7.78 2.81-2.81c.8-.78.8-2.07 0-2.86zM5.41 20L4 18.59l7.72-7.72 1.47 1.35L5.41 20z\"/>\n",
              "  </svg>\n",
              "      </button>\n",
              "      \n",
              "  <style>\n",
              "    .colab-df-container {\n",
              "      display:flex;\n",
              "      flex-wrap:wrap;\n",
              "      gap: 12px;\n",
              "    }\n",
              "\n",
              "    .colab-df-convert {\n",
              "      background-color: #E8F0FE;\n",
              "      border: none;\n",
              "      border-radius: 50%;\n",
              "      cursor: pointer;\n",
              "      display: none;\n",
              "      fill: #1967D2;\n",
              "      height: 32px;\n",
              "      padding: 0 0 0 0;\n",
              "      width: 32px;\n",
              "    }\n",
              "\n",
              "    .colab-df-convert:hover {\n",
              "      background-color: #E2EBFA;\n",
              "      box-shadow: 0px 1px 2px rgba(60, 64, 67, 0.3), 0px 1px 3px 1px rgba(60, 64, 67, 0.15);\n",
              "      fill: #174EA6;\n",
              "    }\n",
              "\n",
              "    [theme=dark] .colab-df-convert {\n",
              "      background-color: #3B4455;\n",
              "      fill: #D2E3FC;\n",
              "    }\n",
              "\n",
              "    [theme=dark] .colab-df-convert:hover {\n",
              "      background-color: #434B5C;\n",
              "      box-shadow: 0px 1px 3px 1px rgba(0, 0, 0, 0.15);\n",
              "      filter: drop-shadow(0px 1px 2px rgba(0, 0, 0, 0.3));\n",
              "      fill: #FFFFFF;\n",
              "    }\n",
              "  </style>\n",
              "\n",
              "      <script>\n",
              "        const buttonEl =\n",
              "          document.querySelector('#df-54915c65-96a1-4384-8bdf-e6756605a447 button.colab-df-convert');\n",
              "        buttonEl.style.display =\n",
              "          google.colab.kernel.accessAllowed ? 'block' : 'none';\n",
              "\n",
              "        async function convertToInteractive(key) {\n",
              "          const element = document.querySelector('#df-54915c65-96a1-4384-8bdf-e6756605a447');\n",
              "          const dataTable =\n",
              "            await google.colab.kernel.invokeFunction('convertToInteractive',\n",
              "                                                     [key], {});\n",
              "          if (!dataTable) return;\n",
              "\n",
              "          const docLinkHtml = 'Like what you see? Visit the ' +\n",
              "            '<a target=\"_blank\" href=https://colab.research.google.com/notebooks/data_table.ipynb>data table notebook</a>'\n",
              "            + ' to learn more about interactive tables.';\n",
              "          element.innerHTML = '';\n",
              "          dataTable['output_type'] = 'display_data';\n",
              "          await google.colab.output.renderOutput(dataTable, element);\n",
              "          const docLink = document.createElement('div');\n",
              "          docLink.innerHTML = docLinkHtml;\n",
              "          element.appendChild(docLink);\n",
              "        }\n",
              "      </script>\n",
              "    </div>\n",
              "  </div>\n",
              "  "
            ]
          },
          "metadata": {},
          "execution_count": 2
        }
      ],
      "source": [
        "data = ds.fetch_openml(data_id=151, as_frame=True, return_X_y=True)\n",
        "\n",
        "(\n",
        "\n",
        "    pd.concat(data, axis=1)\n",
        "\n",
        "    .assign(target=lambda x: (x['class']=='UP')*1)\n",
        "\n",
        ")"
      ]
    },
    {
      "cell_type": "markdown",
      "source": [
        "Trata-se de um problema de classificação binária."
      ],
      "metadata": {
        "id": "wRFPdhz98Bge"
      }
    },
    {
      "cell_type": "markdown",
      "source": [
        "# **Pré-processamento**"
      ],
      "metadata": {
        "id": "x6cPKx7ZSbEL"
      }
    },
    {
      "cell_type": "code",
      "source": [
        "type(data)"
      ],
      "metadata": {
        "id": "a12Y9UMY22R_",
        "colab": {
          "base_uri": "https://localhost:8080/"
        },
        "outputId": "c4bf1e70-1ba6-4673-cd2e-cfa3669e728c"
      },
      "execution_count": null,
      "outputs": [
        {
          "output_type": "execute_result",
          "data": {
            "text/plain": [
              "tuple"
            ]
          },
          "metadata": {},
          "execution_count": 3
        }
      ]
    },
    {
      "cell_type": "code",
      "source": [
        "# Obteção das variáveis de entrada (features)\n",
        "X=pd.DataFrame(data[0])"
      ],
      "metadata": {
        "id": "Mifwcn8lprRI"
      },
      "execution_count": null,
      "outputs": []
    },
    {
      "cell_type": "code",
      "source": [
        "X.info()"
      ],
      "metadata": {
        "colab": {
          "base_uri": "https://localhost:8080/"
        },
        "id": "akSA8tZUS3fh",
        "outputId": "636243e0-8093-40d9-e9e3-51ce32226f3d"
      },
      "execution_count": null,
      "outputs": [
        {
          "output_type": "stream",
          "name": "stdout",
          "text": [
            "<class 'pandas.core.frame.DataFrame'>\n",
            "RangeIndex: 45312 entries, 0 to 45311\n",
            "Data columns (total 8 columns):\n",
            " #   Column     Non-Null Count  Dtype   \n",
            "---  ------     --------------  -----   \n",
            " 0   date       45312 non-null  float64 \n",
            " 1   day        45312 non-null  category\n",
            " 2   period     45312 non-null  float64 \n",
            " 3   nswprice   45312 non-null  float64 \n",
            " 4   nswdemand  45312 non-null  float64 \n",
            " 5   vicprice   45312 non-null  float64 \n",
            " 6   vicdemand  45312 non-null  float64 \n",
            " 7   transfer   45312 non-null  float64 \n",
            "dtypes: category(1), float64(7)\n",
            "memory usage: 2.5 MB\n"
          ]
        }
      ]
    },
    {
      "cell_type": "code",
      "source": [
        "# Os dados da coluna \" day\" estão salvos como texto. Vamos transformá-los em inteiros para serem processados por todos modelos\n",
        "X['day'] = X['day'].astype(int)"
      ],
      "metadata": {
        "id": "hxr5Ox_oTcxb"
      },
      "execution_count": null,
      "outputs": []
    },
    {
      "cell_type": "code",
      "source": [
        "# Obtenção das saídas (targets)\n",
        "target = pd.DataFrame(data[1])\n",
        "\n",
        "# Transformar dados categóricos em 0 e 1\n",
        "y = pd.DataFrame(data[1]) # apenas para manter o target de\n",
        "y['class'].replace(['UP', 'DOWN'],[1,0], inplace=True)\n",
        "y.head()"
      ],
      "metadata": {
        "colab": {
          "base_uri": "https://localhost:8080/",
          "height": 206
        },
        "id": "PwZuMNktrjB7",
        "outputId": "309efa92-4c0d-4c7f-be41-bb2d4cb97e39"
      },
      "execution_count": null,
      "outputs": [
        {
          "output_type": "execute_result",
          "data": {
            "text/plain": [
              "   class\n",
              "0      1\n",
              "1      1\n",
              "2      1\n",
              "3      1\n",
              "4      0"
            ],
            "text/html": [
              "\n",
              "  <div id=\"df-6f0cea84-7843-4386-9376-623e1e5fb86f\">\n",
              "    <div class=\"colab-df-container\">\n",
              "      <div>\n",
              "<style scoped>\n",
              "    .dataframe tbody tr th:only-of-type {\n",
              "        vertical-align: middle;\n",
              "    }\n",
              "\n",
              "    .dataframe tbody tr th {\n",
              "        vertical-align: top;\n",
              "    }\n",
              "\n",
              "    .dataframe thead th {\n",
              "        text-align: right;\n",
              "    }\n",
              "</style>\n",
              "<table border=\"1\" class=\"dataframe\">\n",
              "  <thead>\n",
              "    <tr style=\"text-align: right;\">\n",
              "      <th></th>\n",
              "      <th>class</th>\n",
              "    </tr>\n",
              "  </thead>\n",
              "  <tbody>\n",
              "    <tr>\n",
              "      <th>0</th>\n",
              "      <td>1</td>\n",
              "    </tr>\n",
              "    <tr>\n",
              "      <th>1</th>\n",
              "      <td>1</td>\n",
              "    </tr>\n",
              "    <tr>\n",
              "      <th>2</th>\n",
              "      <td>1</td>\n",
              "    </tr>\n",
              "    <tr>\n",
              "      <th>3</th>\n",
              "      <td>1</td>\n",
              "    </tr>\n",
              "    <tr>\n",
              "      <th>4</th>\n",
              "      <td>0</td>\n",
              "    </tr>\n",
              "  </tbody>\n",
              "</table>\n",
              "</div>\n",
              "      <button class=\"colab-df-convert\" onclick=\"convertToInteractive('df-6f0cea84-7843-4386-9376-623e1e5fb86f')\"\n",
              "              title=\"Convert this dataframe to an interactive table.\"\n",
              "              style=\"display:none;\">\n",
              "        \n",
              "  <svg xmlns=\"http://www.w3.org/2000/svg\" height=\"24px\"viewBox=\"0 0 24 24\"\n",
              "       width=\"24px\">\n",
              "    <path d=\"M0 0h24v24H0V0z\" fill=\"none\"/>\n",
              "    <path d=\"M18.56 5.44l.94 2.06.94-2.06 2.06-.94-2.06-.94-.94-2.06-.94 2.06-2.06.94zm-11 1L8.5 8.5l.94-2.06 2.06-.94-2.06-.94L8.5 2.5l-.94 2.06-2.06.94zm10 10l.94 2.06.94-2.06 2.06-.94-2.06-.94-.94-2.06-.94 2.06-2.06.94z\"/><path d=\"M17.41 7.96l-1.37-1.37c-.4-.4-.92-.59-1.43-.59-.52 0-1.04.2-1.43.59L10.3 9.45l-7.72 7.72c-.78.78-.78 2.05 0 2.83L4 21.41c.39.39.9.59 1.41.59.51 0 1.02-.2 1.41-.59l7.78-7.78 2.81-2.81c.8-.78.8-2.07 0-2.86zM5.41 20L4 18.59l7.72-7.72 1.47 1.35L5.41 20z\"/>\n",
              "  </svg>\n",
              "      </button>\n",
              "      \n",
              "  <style>\n",
              "    .colab-df-container {\n",
              "      display:flex;\n",
              "      flex-wrap:wrap;\n",
              "      gap: 12px;\n",
              "    }\n",
              "\n",
              "    .colab-df-convert {\n",
              "      background-color: #E8F0FE;\n",
              "      border: none;\n",
              "      border-radius: 50%;\n",
              "      cursor: pointer;\n",
              "      display: none;\n",
              "      fill: #1967D2;\n",
              "      height: 32px;\n",
              "      padding: 0 0 0 0;\n",
              "      width: 32px;\n",
              "    }\n",
              "\n",
              "    .colab-df-convert:hover {\n",
              "      background-color: #E2EBFA;\n",
              "      box-shadow: 0px 1px 2px rgba(60, 64, 67, 0.3), 0px 1px 3px 1px rgba(60, 64, 67, 0.15);\n",
              "      fill: #174EA6;\n",
              "    }\n",
              "\n",
              "    [theme=dark] .colab-df-convert {\n",
              "      background-color: #3B4455;\n",
              "      fill: #D2E3FC;\n",
              "    }\n",
              "\n",
              "    [theme=dark] .colab-df-convert:hover {\n",
              "      background-color: #434B5C;\n",
              "      box-shadow: 0px 1px 3px 1px rgba(0, 0, 0, 0.15);\n",
              "      filter: drop-shadow(0px 1px 2px rgba(0, 0, 0, 0.3));\n",
              "      fill: #FFFFFF;\n",
              "    }\n",
              "  </style>\n",
              "\n",
              "      <script>\n",
              "        const buttonEl =\n",
              "          document.querySelector('#df-6f0cea84-7843-4386-9376-623e1e5fb86f button.colab-df-convert');\n",
              "        buttonEl.style.display =\n",
              "          google.colab.kernel.accessAllowed ? 'block' : 'none';\n",
              "\n",
              "        async function convertToInteractive(key) {\n",
              "          const element = document.querySelector('#df-6f0cea84-7843-4386-9376-623e1e5fb86f');\n",
              "          const dataTable =\n",
              "            await google.colab.kernel.invokeFunction('convertToInteractive',\n",
              "                                                     [key], {});\n",
              "          if (!dataTable) return;\n",
              "\n",
              "          const docLinkHtml = 'Like what you see? Visit the ' +\n",
              "            '<a target=\"_blank\" href=https://colab.research.google.com/notebooks/data_table.ipynb>data table notebook</a>'\n",
              "            + ' to learn more about interactive tables.';\n",
              "          element.innerHTML = '';\n",
              "          dataTable['output_type'] = 'display_data';\n",
              "          await google.colab.output.renderOutput(dataTable, element);\n",
              "          const docLink = document.createElement('div');\n",
              "          docLink.innerHTML = docLinkHtml;\n",
              "          element.appendChild(docLink);\n",
              "        }\n",
              "      </script>\n",
              "    </div>\n",
              "  </div>\n",
              "  "
            ]
          },
          "metadata": {},
          "execution_count": 7
        }
      ]
    },
    {
      "cell_type": "code",
      "source": [
        "# Obteção de um único dataframe com entratas e saídas (para EDA)\n",
        "total_data=pd.concat([X, y], axis=1)\n",
        "total_data.head()"
      ],
      "metadata": {
        "colab": {
          "base_uri": "https://localhost:8080/",
          "height": 206
        },
        "id": "Y--Xo8Dku3LM",
        "outputId": "97e0c2be-04a6-4f2a-cc14-2def767d690c"
      },
      "execution_count": null,
      "outputs": [
        {
          "output_type": "execute_result",
          "data": {
            "text/plain": [
              "   date  day    period  nswprice  nswdemand  vicprice  vicdemand  transfer  \\\n",
              "0   0.0    2  0.000000  0.056443   0.439155  0.003467   0.422915  0.414912   \n",
              "1   0.0    2  0.021277  0.051699   0.415055  0.003467   0.422915  0.414912   \n",
              "2   0.0    2  0.042553  0.051489   0.385004  0.003467   0.422915  0.414912   \n",
              "3   0.0    2  0.063830  0.045485   0.314639  0.003467   0.422915  0.414912   \n",
              "4   0.0    2  0.085106  0.042482   0.251116  0.003467   0.422915  0.414912   \n",
              "\n",
              "   class  \n",
              "0      1  \n",
              "1      1  \n",
              "2      1  \n",
              "3      1  \n",
              "4      0  "
            ],
            "text/html": [
              "\n",
              "  <div id=\"df-aed32030-e920-4ceb-9d6c-18b83020aab3\">\n",
              "    <div class=\"colab-df-container\">\n",
              "      <div>\n",
              "<style scoped>\n",
              "    .dataframe tbody tr th:only-of-type {\n",
              "        vertical-align: middle;\n",
              "    }\n",
              "\n",
              "    .dataframe tbody tr th {\n",
              "        vertical-align: top;\n",
              "    }\n",
              "\n",
              "    .dataframe thead th {\n",
              "        text-align: right;\n",
              "    }\n",
              "</style>\n",
              "<table border=\"1\" class=\"dataframe\">\n",
              "  <thead>\n",
              "    <tr style=\"text-align: right;\">\n",
              "      <th></th>\n",
              "      <th>date</th>\n",
              "      <th>day</th>\n",
              "      <th>period</th>\n",
              "      <th>nswprice</th>\n",
              "      <th>nswdemand</th>\n",
              "      <th>vicprice</th>\n",
              "      <th>vicdemand</th>\n",
              "      <th>transfer</th>\n",
              "      <th>class</th>\n",
              "    </tr>\n",
              "  </thead>\n",
              "  <tbody>\n",
              "    <tr>\n",
              "      <th>0</th>\n",
              "      <td>0.0</td>\n",
              "      <td>2</td>\n",
              "      <td>0.000000</td>\n",
              "      <td>0.056443</td>\n",
              "      <td>0.439155</td>\n",
              "      <td>0.003467</td>\n",
              "      <td>0.422915</td>\n",
              "      <td>0.414912</td>\n",
              "      <td>1</td>\n",
              "    </tr>\n",
              "    <tr>\n",
              "      <th>1</th>\n",
              "      <td>0.0</td>\n",
              "      <td>2</td>\n",
              "      <td>0.021277</td>\n",
              "      <td>0.051699</td>\n",
              "      <td>0.415055</td>\n",
              "      <td>0.003467</td>\n",
              "      <td>0.422915</td>\n",
              "      <td>0.414912</td>\n",
              "      <td>1</td>\n",
              "    </tr>\n",
              "    <tr>\n",
              "      <th>2</th>\n",
              "      <td>0.0</td>\n",
              "      <td>2</td>\n",
              "      <td>0.042553</td>\n",
              "      <td>0.051489</td>\n",
              "      <td>0.385004</td>\n",
              "      <td>0.003467</td>\n",
              "      <td>0.422915</td>\n",
              "      <td>0.414912</td>\n",
              "      <td>1</td>\n",
              "    </tr>\n",
              "    <tr>\n",
              "      <th>3</th>\n",
              "      <td>0.0</td>\n",
              "      <td>2</td>\n",
              "      <td>0.063830</td>\n",
              "      <td>0.045485</td>\n",
              "      <td>0.314639</td>\n",
              "      <td>0.003467</td>\n",
              "      <td>0.422915</td>\n",
              "      <td>0.414912</td>\n",
              "      <td>1</td>\n",
              "    </tr>\n",
              "    <tr>\n",
              "      <th>4</th>\n",
              "      <td>0.0</td>\n",
              "      <td>2</td>\n",
              "      <td>0.085106</td>\n",
              "      <td>0.042482</td>\n",
              "      <td>0.251116</td>\n",
              "      <td>0.003467</td>\n",
              "      <td>0.422915</td>\n",
              "      <td>0.414912</td>\n",
              "      <td>0</td>\n",
              "    </tr>\n",
              "  </tbody>\n",
              "</table>\n",
              "</div>\n",
              "      <button class=\"colab-df-convert\" onclick=\"convertToInteractive('df-aed32030-e920-4ceb-9d6c-18b83020aab3')\"\n",
              "              title=\"Convert this dataframe to an interactive table.\"\n",
              "              style=\"display:none;\">\n",
              "        \n",
              "  <svg xmlns=\"http://www.w3.org/2000/svg\" height=\"24px\"viewBox=\"0 0 24 24\"\n",
              "       width=\"24px\">\n",
              "    <path d=\"M0 0h24v24H0V0z\" fill=\"none\"/>\n",
              "    <path d=\"M18.56 5.44l.94 2.06.94-2.06 2.06-.94-2.06-.94-.94-2.06-.94 2.06-2.06.94zm-11 1L8.5 8.5l.94-2.06 2.06-.94-2.06-.94L8.5 2.5l-.94 2.06-2.06.94zm10 10l.94 2.06.94-2.06 2.06-.94-2.06-.94-.94-2.06-.94 2.06-2.06.94z\"/><path d=\"M17.41 7.96l-1.37-1.37c-.4-.4-.92-.59-1.43-.59-.52 0-1.04.2-1.43.59L10.3 9.45l-7.72 7.72c-.78.78-.78 2.05 0 2.83L4 21.41c.39.39.9.59 1.41.59.51 0 1.02-.2 1.41-.59l7.78-7.78 2.81-2.81c.8-.78.8-2.07 0-2.86zM5.41 20L4 18.59l7.72-7.72 1.47 1.35L5.41 20z\"/>\n",
              "  </svg>\n",
              "      </button>\n",
              "      \n",
              "  <style>\n",
              "    .colab-df-container {\n",
              "      display:flex;\n",
              "      flex-wrap:wrap;\n",
              "      gap: 12px;\n",
              "    }\n",
              "\n",
              "    .colab-df-convert {\n",
              "      background-color: #E8F0FE;\n",
              "      border: none;\n",
              "      border-radius: 50%;\n",
              "      cursor: pointer;\n",
              "      display: none;\n",
              "      fill: #1967D2;\n",
              "      height: 32px;\n",
              "      padding: 0 0 0 0;\n",
              "      width: 32px;\n",
              "    }\n",
              "\n",
              "    .colab-df-convert:hover {\n",
              "      background-color: #E2EBFA;\n",
              "      box-shadow: 0px 1px 2px rgba(60, 64, 67, 0.3), 0px 1px 3px 1px rgba(60, 64, 67, 0.15);\n",
              "      fill: #174EA6;\n",
              "    }\n",
              "\n",
              "    [theme=dark] .colab-df-convert {\n",
              "      background-color: #3B4455;\n",
              "      fill: #D2E3FC;\n",
              "    }\n",
              "\n",
              "    [theme=dark] .colab-df-convert:hover {\n",
              "      background-color: #434B5C;\n",
              "      box-shadow: 0px 1px 3px 1px rgba(0, 0, 0, 0.15);\n",
              "      filter: drop-shadow(0px 1px 2px rgba(0, 0, 0, 0.3));\n",
              "      fill: #FFFFFF;\n",
              "    }\n",
              "  </style>\n",
              "\n",
              "      <script>\n",
              "        const buttonEl =\n",
              "          document.querySelector('#df-aed32030-e920-4ceb-9d6c-18b83020aab3 button.colab-df-convert');\n",
              "        buttonEl.style.display =\n",
              "          google.colab.kernel.accessAllowed ? 'block' : 'none';\n",
              "\n",
              "        async function convertToInteractive(key) {\n",
              "          const element = document.querySelector('#df-aed32030-e920-4ceb-9d6c-18b83020aab3');\n",
              "          const dataTable =\n",
              "            await google.colab.kernel.invokeFunction('convertToInteractive',\n",
              "                                                     [key], {});\n",
              "          if (!dataTable) return;\n",
              "\n",
              "          const docLinkHtml = 'Like what you see? Visit the ' +\n",
              "            '<a target=\"_blank\" href=https://colab.research.google.com/notebooks/data_table.ipynb>data table notebook</a>'\n",
              "            + ' to learn more about interactive tables.';\n",
              "          element.innerHTML = '';\n",
              "          dataTable['output_type'] = 'display_data';\n",
              "          await google.colab.output.renderOutput(dataTable, element);\n",
              "          const docLink = document.createElement('div');\n",
              "          docLink.innerHTML = docLinkHtml;\n",
              "          element.appendChild(docLink);\n",
              "        }\n",
              "      </script>\n",
              "    </div>\n",
              "  </div>\n",
              "  "
            ]
          },
          "metadata": {},
          "execution_count": 8
        }
      ]
    },
    {
      "cell_type": "markdown",
      "source": [
        "\n",
        "\n",
        "# **Análise esploratória dos dados (EDA)**"
      ],
      "metadata": {
        "id": "cHzgQARRo2Zr"
      }
    },
    {
      "cell_type": "code",
      "source": [
        "total_data.describe()"
      ],
      "metadata": {
        "colab": {
          "base_uri": "https://localhost:8080/",
          "height": 300
        },
        "id": "wUL0Ogg8pA27",
        "outputId": "5f50000b-6edb-41cd-8640-8eb1ee0ada15"
      },
      "execution_count": null,
      "outputs": [
        {
          "output_type": "execute_result",
          "data": {
            "text/plain": [
              "               date           day        period      nswprice     nswdemand  \\\n",
              "count  45312.000000  45312.000000  45312.000000  45312.000000  45312.000000   \n",
              "mean       0.499080      4.003178      0.500000      0.057868      0.425418   \n",
              "std        0.340308      1.998695      0.294756      0.039991      0.163323   \n",
              "min        0.000000      1.000000      0.000000      0.000000      0.000000   \n",
              "25%        0.031934      2.000000      0.250000      0.035127      0.309134   \n",
              "50%        0.456329      4.000000      0.500000      0.048652      0.443693   \n",
              "75%        0.880547      6.000000      0.750000      0.074336      0.536001   \n",
              "max        1.000000      7.000000      1.000000      1.000000      1.000000   \n",
              "\n",
              "           vicprice     vicdemand      transfer         class  \n",
              "count  45312.000000  45312.000000  45312.000000  45312.000000  \n",
              "mean       0.003467      0.422915      0.500526      0.424545  \n",
              "std        0.010213      0.120965      0.153373      0.494279  \n",
              "min        0.000000      0.000000      0.000000      0.000000  \n",
              "25%        0.002277      0.372346      0.414912      0.000000  \n",
              "50%        0.003467      0.422915      0.414912      0.000000  \n",
              "75%        0.003467      0.469252      0.605702      1.000000  \n",
              "max        1.000000      1.000000      1.000000      1.000000  "
            ],
            "text/html": [
              "\n",
              "  <div id=\"df-d8c629bd-348b-45af-82f5-062a4b5a316d\">\n",
              "    <div class=\"colab-df-container\">\n",
              "      <div>\n",
              "<style scoped>\n",
              "    .dataframe tbody tr th:only-of-type {\n",
              "        vertical-align: middle;\n",
              "    }\n",
              "\n",
              "    .dataframe tbody tr th {\n",
              "        vertical-align: top;\n",
              "    }\n",
              "\n",
              "    .dataframe thead th {\n",
              "        text-align: right;\n",
              "    }\n",
              "</style>\n",
              "<table border=\"1\" class=\"dataframe\">\n",
              "  <thead>\n",
              "    <tr style=\"text-align: right;\">\n",
              "      <th></th>\n",
              "      <th>date</th>\n",
              "      <th>day</th>\n",
              "      <th>period</th>\n",
              "      <th>nswprice</th>\n",
              "      <th>nswdemand</th>\n",
              "      <th>vicprice</th>\n",
              "      <th>vicdemand</th>\n",
              "      <th>transfer</th>\n",
              "      <th>class</th>\n",
              "    </tr>\n",
              "  </thead>\n",
              "  <tbody>\n",
              "    <tr>\n",
              "      <th>count</th>\n",
              "      <td>45312.000000</td>\n",
              "      <td>45312.000000</td>\n",
              "      <td>45312.000000</td>\n",
              "      <td>45312.000000</td>\n",
              "      <td>45312.000000</td>\n",
              "      <td>45312.000000</td>\n",
              "      <td>45312.000000</td>\n",
              "      <td>45312.000000</td>\n",
              "      <td>45312.000000</td>\n",
              "    </tr>\n",
              "    <tr>\n",
              "      <th>mean</th>\n",
              "      <td>0.499080</td>\n",
              "      <td>4.003178</td>\n",
              "      <td>0.500000</td>\n",
              "      <td>0.057868</td>\n",
              "      <td>0.425418</td>\n",
              "      <td>0.003467</td>\n",
              "      <td>0.422915</td>\n",
              "      <td>0.500526</td>\n",
              "      <td>0.424545</td>\n",
              "    </tr>\n",
              "    <tr>\n",
              "      <th>std</th>\n",
              "      <td>0.340308</td>\n",
              "      <td>1.998695</td>\n",
              "      <td>0.294756</td>\n",
              "      <td>0.039991</td>\n",
              "      <td>0.163323</td>\n",
              "      <td>0.010213</td>\n",
              "      <td>0.120965</td>\n",
              "      <td>0.153373</td>\n",
              "      <td>0.494279</td>\n",
              "    </tr>\n",
              "    <tr>\n",
              "      <th>min</th>\n",
              "      <td>0.000000</td>\n",
              "      <td>1.000000</td>\n",
              "      <td>0.000000</td>\n",
              "      <td>0.000000</td>\n",
              "      <td>0.000000</td>\n",
              "      <td>0.000000</td>\n",
              "      <td>0.000000</td>\n",
              "      <td>0.000000</td>\n",
              "      <td>0.000000</td>\n",
              "    </tr>\n",
              "    <tr>\n",
              "      <th>25%</th>\n",
              "      <td>0.031934</td>\n",
              "      <td>2.000000</td>\n",
              "      <td>0.250000</td>\n",
              "      <td>0.035127</td>\n",
              "      <td>0.309134</td>\n",
              "      <td>0.002277</td>\n",
              "      <td>0.372346</td>\n",
              "      <td>0.414912</td>\n",
              "      <td>0.000000</td>\n",
              "    </tr>\n",
              "    <tr>\n",
              "      <th>50%</th>\n",
              "      <td>0.456329</td>\n",
              "      <td>4.000000</td>\n",
              "      <td>0.500000</td>\n",
              "      <td>0.048652</td>\n",
              "      <td>0.443693</td>\n",
              "      <td>0.003467</td>\n",
              "      <td>0.422915</td>\n",
              "      <td>0.414912</td>\n",
              "      <td>0.000000</td>\n",
              "    </tr>\n",
              "    <tr>\n",
              "      <th>75%</th>\n",
              "      <td>0.880547</td>\n",
              "      <td>6.000000</td>\n",
              "      <td>0.750000</td>\n",
              "      <td>0.074336</td>\n",
              "      <td>0.536001</td>\n",
              "      <td>0.003467</td>\n",
              "      <td>0.469252</td>\n",
              "      <td>0.605702</td>\n",
              "      <td>1.000000</td>\n",
              "    </tr>\n",
              "    <tr>\n",
              "      <th>max</th>\n",
              "      <td>1.000000</td>\n",
              "      <td>7.000000</td>\n",
              "      <td>1.000000</td>\n",
              "      <td>1.000000</td>\n",
              "      <td>1.000000</td>\n",
              "      <td>1.000000</td>\n",
              "      <td>1.000000</td>\n",
              "      <td>1.000000</td>\n",
              "      <td>1.000000</td>\n",
              "    </tr>\n",
              "  </tbody>\n",
              "</table>\n",
              "</div>\n",
              "      <button class=\"colab-df-convert\" onclick=\"convertToInteractive('df-d8c629bd-348b-45af-82f5-062a4b5a316d')\"\n",
              "              title=\"Convert this dataframe to an interactive table.\"\n",
              "              style=\"display:none;\">\n",
              "        \n",
              "  <svg xmlns=\"http://www.w3.org/2000/svg\" height=\"24px\"viewBox=\"0 0 24 24\"\n",
              "       width=\"24px\">\n",
              "    <path d=\"M0 0h24v24H0V0z\" fill=\"none\"/>\n",
              "    <path d=\"M18.56 5.44l.94 2.06.94-2.06 2.06-.94-2.06-.94-.94-2.06-.94 2.06-2.06.94zm-11 1L8.5 8.5l.94-2.06 2.06-.94-2.06-.94L8.5 2.5l-.94 2.06-2.06.94zm10 10l.94 2.06.94-2.06 2.06-.94-2.06-.94-.94-2.06-.94 2.06-2.06.94z\"/><path d=\"M17.41 7.96l-1.37-1.37c-.4-.4-.92-.59-1.43-.59-.52 0-1.04.2-1.43.59L10.3 9.45l-7.72 7.72c-.78.78-.78 2.05 0 2.83L4 21.41c.39.39.9.59 1.41.59.51 0 1.02-.2 1.41-.59l7.78-7.78 2.81-2.81c.8-.78.8-2.07 0-2.86zM5.41 20L4 18.59l7.72-7.72 1.47 1.35L5.41 20z\"/>\n",
              "  </svg>\n",
              "      </button>\n",
              "      \n",
              "  <style>\n",
              "    .colab-df-container {\n",
              "      display:flex;\n",
              "      flex-wrap:wrap;\n",
              "      gap: 12px;\n",
              "    }\n",
              "\n",
              "    .colab-df-convert {\n",
              "      background-color: #E8F0FE;\n",
              "      border: none;\n",
              "      border-radius: 50%;\n",
              "      cursor: pointer;\n",
              "      display: none;\n",
              "      fill: #1967D2;\n",
              "      height: 32px;\n",
              "      padding: 0 0 0 0;\n",
              "      width: 32px;\n",
              "    }\n",
              "\n",
              "    .colab-df-convert:hover {\n",
              "      background-color: #E2EBFA;\n",
              "      box-shadow: 0px 1px 2px rgba(60, 64, 67, 0.3), 0px 1px 3px 1px rgba(60, 64, 67, 0.15);\n",
              "      fill: #174EA6;\n",
              "    }\n",
              "\n",
              "    [theme=dark] .colab-df-convert {\n",
              "      background-color: #3B4455;\n",
              "      fill: #D2E3FC;\n",
              "    }\n",
              "\n",
              "    [theme=dark] .colab-df-convert:hover {\n",
              "      background-color: #434B5C;\n",
              "      box-shadow: 0px 1px 3px 1px rgba(0, 0, 0, 0.15);\n",
              "      filter: drop-shadow(0px 1px 2px rgba(0, 0, 0, 0.3));\n",
              "      fill: #FFFFFF;\n",
              "    }\n",
              "  </style>\n",
              "\n",
              "      <script>\n",
              "        const buttonEl =\n",
              "          document.querySelector('#df-d8c629bd-348b-45af-82f5-062a4b5a316d button.colab-df-convert');\n",
              "        buttonEl.style.display =\n",
              "          google.colab.kernel.accessAllowed ? 'block' : 'none';\n",
              "\n",
              "        async function convertToInteractive(key) {\n",
              "          const element = document.querySelector('#df-d8c629bd-348b-45af-82f5-062a4b5a316d');\n",
              "          const dataTable =\n",
              "            await google.colab.kernel.invokeFunction('convertToInteractive',\n",
              "                                                     [key], {});\n",
              "          if (!dataTable) return;\n",
              "\n",
              "          const docLinkHtml = 'Like what you see? Visit the ' +\n",
              "            '<a target=\"_blank\" href=https://colab.research.google.com/notebooks/data_table.ipynb>data table notebook</a>'\n",
              "            + ' to learn more about interactive tables.';\n",
              "          element.innerHTML = '';\n",
              "          dataTable['output_type'] = 'display_data';\n",
              "          await google.colab.output.renderOutput(dataTable, element);\n",
              "          const docLink = document.createElement('div');\n",
              "          docLink.innerHTML = docLinkHtml;\n",
              "          element.appendChild(docLink);\n",
              "        }\n",
              "      </script>\n",
              "    </div>\n",
              "  </div>\n",
              "  "
            ]
          },
          "metadata": {},
          "execution_count": 9
        }
      ]
    },
    {
      "cell_type": "markdown",
      "source": [
        "Pode-se observar o banco de dados tem 45312 amostras e oito features.\n",
        "Todos dados, exceto day, já estão escalonados."
      ],
      "metadata": {
        "id": "TMUAtiu7MBdg"
      }
    },
    {
      "cell_type": "code",
      "source": [
        "# Distribuíção de frequências das variáveis\n",
        "total_data.hist(figsize=(12,10),color='lightsteelblue');"
      ],
      "metadata": {
        "colab": {
          "base_uri": "https://localhost:8080/",
          "height": 612
        },
        "id": "NUNxSuP0xFOw",
        "outputId": "403bffae-2e42-4991-f620-3702d55bd5bd"
      },
      "execution_count": null,
      "outputs": [
        {
          "output_type": "display_data",
          "data": {
            "text/plain": [
              "<Figure size 864x720 with 9 Axes>"
            ],
            "image/png": "[encoded data removed]"
          },
          "metadata": {
            "needs_background": "light"
          }
        }
      ]
    },
    {
      "cell_type": "markdown",
      "source": [
        "Pode-se observar que as diferentes features possuem diferentes distribuições de frequência, sendo que algumas delas estão homogeneamente distribuídas, outras estão próximas da distribuição normal e outras estão bastante concentradas em uma única região."
      ],
      "metadata": {
        "id": "5SXDW05tLrAN"
      }
    },
    {
      "cell_type": "code",
      "source": [
        "# Porcentagem entre as classes\n",
        "# up=1 down =0\n",
        "up=total_data['class'].sum()/total_data['class'].count()\n",
        "print('% up=',up*100)\n",
        "print('% down=',(1-up)*100)"
      ],
      "metadata": {
        "colab": {
          "base_uri": "https://localhost:8080/"
        },
        "id": "fUJpA4JB21I5",
        "outputId": "b403bcf6-9b9a-4252-a233-83517bcdff7f"
      },
      "execution_count": null,
      "outputs": [
        {
          "output_type": "stream",
          "name": "stdout",
          "text": [
            "% up= 42.45453742937853\n",
            "% down= 57.545462570621474\n"
          ]
        }
      ]
    },
    {
      "cell_type": "markdown",
      "source": [
        "Classes estão relativamente balanceadas. Neste contexto, acurácia é um bom comparativo entre modelos."
      ],
      "metadata": {
        "id": "8mUnUT5c7p1V"
      }
    },
    {
      "cell_type": "markdown",
      "source": [
        "# **Escolha do Modelo**\n",
        "\n",
        "Vamos testar os dados com alguns algorítimos adequados para classificação binária supervisionada, usando os hyperparâmetros defaut dos métodos, e o mesmo random_state=111  para limitar o efeito da aleatoredade na performance. Em seguida, vamos calcular as métricas de desempenho e selecionar o modelo mais promissor de acordo com a acurácia para prosseguir a análise."
      ],
      "metadata": {
        "id": "_TE2Vczp8bVa"
      }
    },
    {
      "cell_type": "code",
      "source": [
        "# Escalonando o modelo\n",
        "scaler_x = MinMaxScaler().fit(X)\n",
        "scaler_y = MinMaxScaler().fit(y)\n",
        "Xscale=scaler_x.transform(X)\n",
        "yscale=scaler_y.transform(y)"
      ],
      "metadata": {
        "id": "-6J1V6M3fotI"
      },
      "execution_count": null,
      "outputs": []
    },
    {
      "cell_type": "code",
      "source": [
        "# Separação dos dados em treino e teste\n",
        "X_train, X_test, y_train, y_test = \\\n",
        "    train_test_split(Xscale, yscale, test_size=0.30,  random_state=111, shuffle=True) # ps: shuffle= True default"
      ],
      "metadata": {
        "id": "5ex9Bfth6pjX"
      },
      "execution_count": null,
      "outputs": []
    },
    {
      "cell_type": "markdown",
      "source": [
        "### Randon Forest"
      ],
      "metadata": {
        "id": "D20HMULY9Rh2"
      }
    },
    {
      "cell_type": "code",
      "source": [
        "rf = RandomForestClassifier(random_state=111) # create model\n",
        "rf.fit(X_train, y_train) # training model\n",
        "y_pred = rf.predict(X_test) #prediction step\n",
        "y_pred_train = rf.predict(X_train) #prediction train step"
      ],
      "metadata": {
        "id": "ilceXuL9iwFV",
        "colab": {
          "base_uri": "https://localhost:8080/"
        },
        "outputId": "2c312fce-753d-4911-81f9-8a803f59eec6"
      },
      "execution_count": null,
      "outputs": [
        {
          "output_type": "stream",
          "name": "stderr",
          "text": [
            "/usr/local/lib/python3.7/dist-packages/ipykernel_launcher.py:2: DataConversionWarning: A column-vector y was passed when a 1d array was expected. Please change the shape of y to (n_samples,), for example using ravel().\n",
            "  \n"
          ]
        }
      ]
    },
    {
      "cell_type": "code",
      "source": [
        "# Entendimento do efeito das variáveis de entrada\n",
        "\n",
        "print('*********** Efeito das variáveis de entrada (features)  ***********')\n",
        "print()\n",
        "ft_imp = pd.Series(rf.feature_importances_).sort_values(ascending=False) #obtenção dos efeitos\n",
        "#Renomenando os índices:\n",
        "df0=pd.DataFrame(ft_imp)\n",
        "df0.index = X.columns[ft_imp.index]\n",
        "#Renomeando a coluna:\n",
        "df0.columns=['Effect']\n",
        "df0"
      ],
      "metadata": {
        "colab": {
          "base_uri": "https://localhost:8080/",
          "height": 337
        },
        "id": "EDdAQFwuUezr",
        "outputId": "d2747999-26d8-439d-bec1-1c75072a1b13"
      },
      "execution_count": null,
      "outputs": [
        {
          "output_type": "stream",
          "name": "stdout",
          "text": [
            "*********** Efeito das variáveis de entrada (features)  ***********\n",
            "\n"
          ]
        },
        {
          "output_type": "execute_result",
          "data": {
            "text/plain": [
              "             Effect\n",
              "nswprice   0.308497\n",
              "date       0.173794\n",
              "nswdemand  0.128352\n",
              "vicprice   0.106449\n",
              "period     0.105346\n",
              "vicdemand  0.064744\n",
              "transfer   0.056938\n",
              "day        0.055880"
            ],
            "text/html": [
              "\n",
              "  <div id=\"df-3f13bb8a-527f-4c9e-8a5e-4570c6368f60\">\n",
              "    <div class=\"colab-df-container\">\n",
              "      <div>\n",
              "<style scoped>\n",
              "    .dataframe tbody tr th:only-of-type {\n",
              "        vertical-align: middle;\n",
              "    }\n",
              "\n",
              "    .dataframe tbody tr th {\n",
              "        vertical-align: top;\n",
              "    }\n",
              "\n",
              "    .dataframe thead th {\n",
              "        text-align: right;\n",
              "    }\n",
              "</style>\n",
              "<table border=\"1\" class=\"dataframe\">\n",
              "  <thead>\n",
              "    <tr style=\"text-align: right;\">\n",
              "      <th></th>\n",
              "      <th>Effect</th>\n",
              "    </tr>\n",
              "  </thead>\n",
              "  <tbody>\n",
              "    <tr>\n",
              "      <th>nswprice</th>\n",
              "      <td>0.308497</td>\n",
              "    </tr>\n",
              "    <tr>\n",
              "      <th>date</th>\n",
              "      <td>0.173794</td>\n",
              "    </tr>\n",
              "    <tr>\n",
              "      <th>nswdemand</th>\n",
              "      <td>0.128352</td>\n",
              "    </tr>\n",
              "    <tr>\n",
              "      <th>vicprice</th>\n",
              "      <td>0.106449</td>\n",
              "    </tr>\n",
              "    <tr>\n",
              "      <th>period</th>\n",
              "      <td>0.105346</td>\n",
              "    </tr>\n",
              "    <tr>\n",
              "      <th>vicdemand</th>\n",
              "      <td>0.064744</td>\n",
              "    </tr>\n",
              "    <tr>\n",
              "      <th>transfer</th>\n",
              "      <td>0.056938</td>\n",
              "    </tr>\n",
              "    <tr>\n",
              "      <th>day</th>\n",
              "      <td>0.055880</td>\n",
              "    </tr>\n",
              "  </tbody>\n",
              "</table>\n",
              "</div>\n",
              "      <button class=\"colab-df-convert\" onclick=\"convertToInteractive('df-3f13bb8a-527f-4c9e-8a5e-4570c6368f60')\"\n",
              "              title=\"Convert this dataframe to an interactive table.\"\n",
              "              style=\"display:none;\">\n",
              "        \n",
              "  <svg xmlns=\"http://www.w3.org/2000/svg\" height=\"24px\"viewBox=\"0 0 24 24\"\n",
              "       width=\"24px\">\n",
              "    <path d=\"M0 0h24v24H0V0z\" fill=\"none\"/>\n",
              "    <path d=\"M18.56 5.44l.94 2.06.94-2.06 2.06-.94-2.06-.94-.94-2.06-.94 2.06-2.06.94zm-11 1L8.5 8.5l.94-2.06 2.06-.94-2.06-.94L8.5 2.5l-.94 2.06-2.06.94zm10 10l.94 2.06.94-2.06 2.06-.94-2.06-.94-.94-2.06-.94 2.06-2.06.94z\"/><path d=\"M17.41 7.96l-1.37-1.37c-.4-.4-.92-.59-1.43-.59-.52 0-1.04.2-1.43.59L10.3 9.45l-7.72 7.72c-.78.78-.78 2.05 0 2.83L4 21.41c.39.39.9.59 1.41.59.51 0 1.02-.2 1.41-.59l7.78-7.78 2.81-2.81c.8-.78.8-2.07 0-2.86zM5.41 20L4 18.59l7.72-7.72 1.47 1.35L5.41 20z\"/>\n",
              "  </svg>\n",
              "      </button>\n",
              "      \n",
              "  <style>\n",
              "    .colab-df-container {\n",
              "      display:flex;\n",
              "      flex-wrap:wrap;\n",
              "      gap: 12px;\n",
              "    }\n",
              "\n",
              "    .colab-df-convert {\n",
              "      background-color: #E8F0FE;\n",
              "      border: none;\n",
              "      border-radius: 50%;\n",
              "      cursor: pointer;\n",
              "      display: none;\n",
              "      fill: #1967D2;\n",
              "      height: 32px;\n",
              "      padding: 0 0 0 0;\n",
              "      width: 32px;\n",
              "    }\n",
              "\n",
              "    .colab-df-convert:hover {\n",
              "      background-color: #E2EBFA;\n",
              "      box-shadow: 0px 1px 2px rgba(60, 64, 67, 0.3), 0px 1px 3px 1px rgba(60, 64, 67, 0.15);\n",
              "      fill: #174EA6;\n",
              "    }\n",
              "\n",
              "    [theme=dark] .colab-df-convert {\n",
              "      background-color: #3B4455;\n",
              "      fill: #D2E3FC;\n",
              "    }\n",
              "\n",
              "    [theme=dark] .colab-df-convert:hover {\n",
              "      background-color: #434B5C;\n",
              "      box-shadow: 0px 1px 3px 1px rgba(0, 0, 0, 0.15);\n",
              "      filter: drop-shadow(0px 1px 2px rgba(0, 0, 0, 0.3));\n",
              "      fill: #FFFFFF;\n",
              "    }\n",
              "  </style>\n",
              "\n",
              "      <script>\n",
              "        const buttonEl =\n",
              "          document.querySelector('#df-3f13bb8a-527f-4c9e-8a5e-4570c6368f60 button.colab-df-convert');\n",
              "        buttonEl.style.display =\n",
              "          google.colab.kernel.accessAllowed ? 'block' : 'none';\n",
              "\n",
              "        async function convertToInteractive(key) {\n",
              "          const element = document.querySelector('#df-3f13bb8a-527f-4c9e-8a5e-4570c6368f60');\n",
              "          const dataTable =\n",
              "            await google.colab.kernel.invokeFunction('convertToInteractive',\n",
              "                                                     [key], {});\n",
              "          if (!dataTable) return;\n",
              "\n",
              "          const docLinkHtml = 'Like what you see? Visit the ' +\n",
              "            '<a target=\"_blank\" href=https://colab.research.google.com/notebooks/data_table.ipynb>data table notebook</a>'\n",
              "            + ' to learn more about interactive tables.';\n",
              "          element.innerHTML = '';\n",
              "          dataTable['output_type'] = 'display_data';\n",
              "          await google.colab.output.renderOutput(dataTable, element);\n",
              "          const docLink = document.createElement('div');\n",
              "          docLink.innerHTML = docLinkHtml;\n",
              "          element.appendChild(docLink);\n",
              "        }\n",
              "      </script>\n",
              "    </div>\n",
              "  </div>\n",
              "  "
            ]
          },
          "metadata": {},
          "execution_count": 15
        }
      ]
    },
    {
      "cell_type": "markdown",
      "source": [
        "### Árvore de decisão"
      ],
      "metadata": {
        "id": "0OonxMS--MoO"
      }
    },
    {
      "cell_type": "code",
      "source": [
        "dt = tree.DecisionTreeClassifier( random_state=111) # create model\n",
        "dt.fit(X_train, y_train) # training model\n",
        "y_pred_dt = dt.predict(X_test) #prediction step\n",
        "y_pred_train_dt = dt.predict(X_train)  #prediction train step"
      ],
      "metadata": {
        "id": "1RSXZUAyA_zB"
      },
      "execution_count": null,
      "outputs": []
    },
    {
      "cell_type": "markdown",
      "source": [
        "### Regressão Logística"
      ],
      "metadata": {
        "id": "ixeWRZGU-t6Q"
      }
    },
    {
      "cell_type": "code",
      "source": [
        "lr= LogisticRegression( random_state=111) # create model\n",
        "lr.fit(X_train, y_train) # training model\n",
        "y_pred_lr = lr.predict(X_test) #prediction step\n",
        "y_pred_train_lr = lr.predict(X_train)  #prediction train step"
      ],
      "metadata": {
        "colab": {
          "base_uri": "https://localhost:8080/"
        },
        "id": "o62dfzF2Gfh3",
        "outputId": "dbcee694-e7d5-493f-f190-95054c87c85f"
      },
      "execution_count": null,
      "outputs": [
        {
          "output_type": "stream",
          "name": "stderr",
          "text": [
            "/usr/local/lib/python3.7/dist-packages/sklearn/utils/validation.py:993: DataConversionWarning: A column-vector y was passed when a 1d array was expected. Please change the shape of y to (n_samples, ), for example using ravel().\n",
            "  y = column_or_1d(y, warn=True)\n"
          ]
        }
      ]
    },
    {
      "cell_type": "markdown",
      "source": [
        "### XGBoost"
      ],
      "metadata": {
        "id": "7X47ptd1FX-q"
      }
    },
    {
      "cell_type": "code",
      "source": [
        "xgb = XGBClassifier(random_state=111) # create model\n",
        "xgb.fit(X_train, y_train) # training model\n",
        "y_pred_xgb = xgb.predict(X_test) # predição teste\n",
        "y_pred_train_xgb = xgb.predict(X_train)  # predição treino"
      ],
      "metadata": {
        "colab": {
          "base_uri": "https://localhost:8080/"
        },
        "id": "fLexhAFTjNP4",
        "outputId": "75799f2d-d09c-4d6b-dc6c-e9e099382ab6"
      },
      "execution_count": null,
      "outputs": [
        {
          "output_type": "stream",
          "name": "stderr",
          "text": [
            "/usr/local/lib/python3.7/dist-packages/sklearn/preprocessing/_label.py:98: DataConversionWarning: A column-vector y was passed when a 1d array was expected. Please change the shape of y to (n_samples, ), for example using ravel().\n",
            "  y = column_or_1d(y, warn=True)\n",
            "/usr/local/lib/python3.7/dist-packages/sklearn/preprocessing/_label.py:133: DataConversionWarning: A column-vector y was passed when a 1d array was expected. Please change the shape of y to (n_samples, ), for example using ravel().\n",
            "  y = column_or_1d(y, warn=True)\n"
          ]
        }
      ]
    },
    {
      "cell_type": "markdown",
      "source": [
        "### LightGBM"
      ],
      "metadata": {
        "id": "bqzFtxBvoCD-"
      }
    },
    {
      "cell_type": "code",
      "source": [
        "LiGBM = LGBMClassifier(random_state=111) # create model\n",
        "LiGBM.fit(X_train, y_train) # training model\n",
        "y_pred_lgbm = LiGBM.predict(X_test) #prediction step\n",
        "y_pred_train_lgbm = LiGBM.predict(X_train)  #prediction train step"
      ],
      "metadata": {
        "colab": {
          "base_uri": "https://localhost:8080/"
        },
        "id": "TcPd-SHgoQC2",
        "outputId": "3a86db66-fd1c-43b4-d526-4ed2a1a2ec96"
      },
      "execution_count": null,
      "outputs": [
        {
          "output_type": "stream",
          "name": "stderr",
          "text": [
            "/usr/local/lib/python3.7/dist-packages/sklearn/preprocessing/_label.py:98: DataConversionWarning: A column-vector y was passed when a 1d array was expected. Please change the shape of y to (n_samples, ), for example using ravel().\n",
            "  y = column_or_1d(y, warn=True)\n",
            "/usr/local/lib/python3.7/dist-packages/sklearn/preprocessing/_label.py:133: DataConversionWarning: A column-vector y was passed when a 1d array was expected. Please change the shape of y to (n_samples, ), for example using ravel().\n",
            "  y = column_or_1d(y, warn=True)\n"
          ]
        }
      ]
    },
    {
      "cell_type": "markdown",
      "source": [
        "### **Avaliação e comparação das métricas dos modelos**"
      ],
      "metadata": {
        "id": "2kNUMt7ZFCrS"
      }
    },
    {
      "cell_type": "code",
      "source": [
        "# Função que retorna todas métricas para os valores preditos dos modelos\n",
        "# será usada tanto para o conjunto treino como para o teste\n",
        "rowsNAMES = ['random forest','Decision Tree','Logistic Regression','modelo XGB',\n",
        "         'light GBM']\n",
        "\n",
        "colsNAMES = ['acurácia','precisão','recall','f1 score']\n",
        "\n",
        "def resultsCLASSIFICA(y,ycalc):\n",
        "  listMETRICS = []\n",
        "  acc = accuracy_score(y, ycalc)\n",
        "  listMETRICS.append(acc)\n",
        "  prec = precision_score(y, ycalc)\n",
        "  listMETRICS.append(prec)\n",
        "  recall = recall_score(y, ycalc)\n",
        "  listMETRICS.append(recall)\n",
        "  f1 = f1_score(y, ycalc)\n",
        "  listMETRICS.append(f1)\n",
        "\n",
        "  return listMETRICS"
      ],
      "metadata": {
        "id": "JCemR2SK9Lh3"
      },
      "execution_count": null,
      "outputs": []
    },
    {
      "cell_type": "code",
      "source": [
        "print('Avaliação das métricas do conjunto treino por modelo')\n",
        "\n",
        "matMETRICS =[]\n",
        "\n",
        "# random forest:\n",
        "matMETRICS.append(resultsCLASSIFICA(y_train,y_pred_train))\n",
        "\n",
        "# decision tree\n",
        "matMETRICS.append(resultsCLASSIFICA(y_train,y_pred_train_dt))\n",
        "\n",
        "#logistic regression\n",
        "matMETRICS.append(resultsCLASSIFICA(y_train,y_pred_train_lr))\n",
        "\n",
        "#XGB\n",
        "matMETRICS.append(resultsCLASSIFICA(y_train,y_pred_train_xgb))\n",
        "\n",
        "#lgbm\n",
        "matMETRICS.append(resultsCLASSIFICA(y_train,y_pred_train_lgbm))\n",
        "\n",
        "\n",
        "df = pd.DataFrame(matMETRICS)\n",
        "df.index= rowsNAMES\n",
        "df.columns =colsNAMES\n",
        "df # modelos treino"
      ],
      "metadata": {
        "id": "-Xak5q-nvlgK",
        "colab": {
          "base_uri": "https://localhost:8080/",
          "height": 225
        },
        "outputId": "401ec054-f758-42c9-da31-dfbf2be35bed"
      },
      "execution_count": null,
      "outputs": [
        {
          "output_type": "stream",
          "name": "stdout",
          "text": [
            "Avaliação das métricas do conjunto treino por modelo\n"
          ]
        },
        {
          "output_type": "execute_result",
          "data": {
            "text/plain": [
              "                     acurácia  precisão    recall  f1 score\n",
              "random forest        1.000000  1.000000  1.000000  1.000000\n",
              "Decision Tree        1.000000  1.000000  1.000000  1.000000\n",
              "Logistic Regression  0.751214  0.777040  0.581454  0.665167\n",
              "modelo XGB           0.836812  0.836249  0.766024  0.799597\n",
              "light GBM            0.897314  0.885279  0.871291  0.878229"
            ],
            "text/html": [
              "\n",
              "  <div id=\"df-d34b2a06-0867-4337-a0f4-d3bd25928b24\">\n",
              "    <div class=\"colab-df-container\">\n",
              "      <div>\n",
              "<style scoped>\n",
              "    .dataframe tbody tr th:only-of-type {\n",
              "        vertical-align: middle;\n",
              "    }\n",
              "\n",
              "    .dataframe tbody tr th {\n",
              "        vertical-align: top;\n",
              "    }\n",
              "\n",
              "    .dataframe thead th {\n",
              "        text-align: right;\n",
              "    }\n",
              "</style>\n",
              "<table border=\"1\" class=\"dataframe\">\n",
              "  <thead>\n",
              "    <tr style=\"text-align: right;\">\n",
              "      <th></th>\n",
              "      <th>acurácia</th>\n",
              "      <th>precisão</th>\n",
              "      <th>recall</th>\n",
              "      <th>f1 score</th>\n",
              "    </tr>\n",
              "  </thead>\n",
              "  <tbody>\n",
              "    <tr>\n",
              "      <th>random forest</th>\n",
              "      <td>1.000000</td>\n",
              "      <td>1.000000</td>\n",
              "      <td>1.000000</td>\n",
              "      <td>1.000000</td>\n",
              "    </tr>\n",
              "    <tr>\n",
              "      <th>Decision Tree</th>\n",
              "      <td>1.000000</td>\n",
              "      <td>1.000000</td>\n",
              "      <td>1.000000</td>\n",
              "      <td>1.000000</td>\n",
              "    </tr>\n",
              "    <tr>\n",
              "      <th>Logistic Regression</th>\n",
              "      <td>0.751214</td>\n",
              "      <td>0.777040</td>\n",
              "      <td>0.581454</td>\n",
              "      <td>0.665167</td>\n",
              "    </tr>\n",
              "    <tr>\n",
              "      <th>modelo XGB</th>\n",
              "      <td>0.836812</td>\n",
              "      <td>0.836249</td>\n",
              "      <td>0.766024</td>\n",
              "      <td>0.799597</td>\n",
              "    </tr>\n",
              "    <tr>\n",
              "      <th>light GBM</th>\n",
              "      <td>0.897314</td>\n",
              "      <td>0.885279</td>\n",
              "      <td>0.871291</td>\n",
              "      <td>0.878229</td>\n",
              "    </tr>\n",
              "  </tbody>\n",
              "</table>\n",
              "</div>\n",
              "      <button class=\"colab-df-convert\" onclick=\"convertToInteractive('df-d34b2a06-0867-4337-a0f4-d3bd25928b24')\"\n",
              "              title=\"Convert this dataframe to an interactive table.\"\n",
              "              style=\"display:none;\">\n",
              "        \n",
              "  <svg xmlns=\"http://www.w3.org/2000/svg\" height=\"24px\"viewBox=\"0 0 24 24\"\n",
              "       width=\"24px\">\n",
              "    <path d=\"M0 0h24v24H0V0z\" fill=\"none\"/>\n",
              "    <path d=\"M18.56 5.44l.94 2.06.94-2.06 2.06-.94-2.06-.94-.94-2.06-.94 2.06-2.06.94zm-11 1L8.5 8.5l.94-2.06 2.06-.94-2.06-.94L8.5 2.5l-.94 2.06-2.06.94zm10 10l.94 2.06.94-2.06 2.06-.94-2.06-.94-.94-2.06-.94 2.06-2.06.94z\"/><path d=\"M17.41 7.96l-1.37-1.37c-.4-.4-.92-.59-1.43-.59-.52 0-1.04.2-1.43.59L10.3 9.45l-7.72 7.72c-.78.78-.78 2.05 0 2.83L4 21.41c.39.39.9.59 1.41.59.51 0 1.02-.2 1.41-.59l7.78-7.78 2.81-2.81c.8-.78.8-2.07 0-2.86zM5.41 20L4 18.59l7.72-7.72 1.47 1.35L5.41 20z\"/>\n",
              "  </svg>\n",
              "      </button>\n",
              "      \n",
              "  <style>\n",
              "    .colab-df-container {\n",
              "      display:flex;\n",
              "      flex-wrap:wrap;\n",
              "      gap: 12px;\n",
              "    }\n",
              "\n",
              "    .colab-df-convert {\n",
              "      background-color: #E8F0FE;\n",
              "      border: none;\n",
              "      border-radius: 50%;\n",
              "      cursor: pointer;\n",
              "      display: none;\n",
              "      fill: #1967D2;\n",
              "      height: 32px;\n",
              "      padding: 0 0 0 0;\n",
              "      width: 32px;\n",
              "    }\n",
              "\n",
              "    .colab-df-convert:hover {\n",
              "      background-color: #E2EBFA;\n",
              "      box-shadow: 0px 1px 2px rgba(60, 64, 67, 0.3), 0px 1px 3px 1px rgba(60, 64, 67, 0.15);\n",
              "      fill: #174EA6;\n",
              "    }\n",
              "\n",
              "    [theme=dark] .colab-df-convert {\n",
              "      background-color: #3B4455;\n",
              "      fill: #D2E3FC;\n",
              "    }\n",
              "\n",
              "    [theme=dark] .colab-df-convert:hover {\n",
              "      background-color: #434B5C;\n",
              "      box-shadow: 0px 1px 3px 1px rgba(0, 0, 0, 0.15);\n",
              "      filter: drop-shadow(0px 1px 2px rgba(0, 0, 0, 0.3));\n",
              "      fill: #FFFFFF;\n",
              "    }\n",
              "  </style>\n",
              "\n",
              "      <script>\n",
              "        const buttonEl =\n",
              "          document.querySelector('#df-d34b2a06-0867-4337-a0f4-d3bd25928b24 button.colab-df-convert');\n",
              "        buttonEl.style.display =\n",
              "          google.colab.kernel.accessAllowed ? 'block' : 'none';\n",
              "\n",
              "        async function convertToInteractive(key) {\n",
              "          const element = document.querySelector('#df-d34b2a06-0867-4337-a0f4-d3bd25928b24');\n",
              "          const dataTable =\n",
              "            await google.colab.kernel.invokeFunction('convertToInteractive',\n",
              "                                                     [key], {});\n",
              "          if (!dataTable) return;\n",
              "\n",
              "          const docLinkHtml = 'Like what you see? Visit the ' +\n",
              "            '<a target=\"_blank\" href=https://colab.research.google.com/notebooks/data_table.ipynb>data table notebook</a>'\n",
              "            + ' to learn more about interactive tables.';\n",
              "          element.innerHTML = '';\n",
              "          dataTable['output_type'] = 'display_data';\n",
              "          await google.colab.output.renderOutput(dataTable, element);\n",
              "          const docLink = document.createElement('div');\n",
              "          docLink.innerHTML = docLinkHtml;\n",
              "          element.appendChild(docLink);\n",
              "        }\n",
              "      </script>\n",
              "    </div>\n",
              "  </div>\n",
              "  "
            ]
          },
          "metadata": {},
          "execution_count": 21
        }
      ]
    },
    {
      "cell_type": "code",
      "source": [
        "print('Avaliação das métricas do conjunto teste por modelo')\n",
        "\n",
        "matMETRICS =[]\n",
        "\n",
        "# random forest:\n",
        "matMETRICS.append(resultsCLASSIFICA(y_test,y_pred))\n",
        "\n",
        "# decision tree\n",
        "matMETRICS.append(resultsCLASSIFICA(y_test,y_pred_dt))\n",
        "\n",
        "#logistic regression\n",
        "matMETRICS.append(resultsCLASSIFICA(y_test,y_pred_lr))\n",
        "\n",
        "#XGB\n",
        "matMETRICS.append(resultsCLASSIFICA(y_test,y_pred_xgb))\n",
        "\n",
        "#lgbm\n",
        "matMETRICS.append(resultsCLASSIFICA(y_test,y_pred_lgbm))\n",
        "\n",
        "df = pd.DataFrame(matMETRICS)\n",
        "df.index= rowsNAMES\n",
        "df.columns =colsNAMES\n",
        "df # modelos teste"
      ],
      "metadata": {
        "id": "k6zUc8Gm7E_J",
        "colab": {
          "base_uri": "https://localhost:8080/",
          "height": 225
        },
        "outputId": "4594b971-4e3c-436e-b625-1e1df77f7dce"
      },
      "execution_count": null,
      "outputs": [
        {
          "output_type": "stream",
          "name": "stdout",
          "text": [
            "Avaliação das métricas do conjunto teste por modelo\n"
          ]
        },
        {
          "output_type": "execute_result",
          "data": {
            "text/plain": [
              "                     acurácia  precisão    recall  f1 score\n",
              "random forest        0.903560  0.904918  0.862949  0.883436\n",
              "Decision Tree        0.879211  0.859766  0.854091  0.856919\n",
              "Logistic Regression  0.753126  0.783337  0.576516  0.664199\n",
              "modelo XGB           0.832279  0.835423  0.752128  0.791590\n",
              "light GBM            0.881639  0.867991  0.849748  0.858773"
            ],
            "text/html": [
              "\n",
              "  <div id=\"df-0fc26549-898a-46ea-bcd3-3adbe71b960d\">\n",
              "    <div class=\"colab-df-container\">\n",
              "      <div>\n",
              "<style scoped>\n",
              "    .dataframe tbody tr th:only-of-type {\n",
              "        vertical-align: middle;\n",
              "    }\n",
              "\n",
              "    .dataframe tbody tr th {\n",
              "        vertical-align: top;\n",
              "    }\n",
              "\n",
              "    .dataframe thead th {\n",
              "        text-align: right;\n",
              "    }\n",
              "</style>\n",
              "<table border=\"1\" class=\"dataframe\">\n",
              "  <thead>\n",
              "    <tr style=\"text-align: right;\">\n",
              "      <th></th>\n",
              "      <th>acurácia</th>\n",
              "      <th>precisão</th>\n",
              "      <th>recall</th>\n",
              "      <th>f1 score</th>\n",
              "    </tr>\n",
              "  </thead>\n",
              "  <tbody>\n",
              "    <tr>\n",
              "      <th>random forest</th>\n",
              "      <td>0.903560</td>\n",
              "      <td>0.904918</td>\n",
              "      <td>0.862949</td>\n",
              "      <td>0.883436</td>\n",
              "    </tr>\n",
              "    <tr>\n",
              "      <th>Decision Tree</th>\n",
              "      <td>0.879211</td>\n",
              "      <td>0.859766</td>\n",
              "      <td>0.854091</td>\n",
              "      <td>0.856919</td>\n",
              "    </tr>\n",
              "    <tr>\n",
              "      <th>Logistic Regression</th>\n",
              "      <td>0.753126</td>\n",
              "      <td>0.783337</td>\n",
              "      <td>0.576516</td>\n",
              "      <td>0.664199</td>\n",
              "    </tr>\n",
              "    <tr>\n",
              "      <th>modelo XGB</th>\n",
              "      <td>0.832279</td>\n",
              "      <td>0.835423</td>\n",
              "      <td>0.752128</td>\n",
              "      <td>0.791590</td>\n",
              "    </tr>\n",
              "    <tr>\n",
              "      <th>light GBM</th>\n",
              "      <td>0.881639</td>\n",
              "      <td>0.867991</td>\n",
              "      <td>0.849748</td>\n",
              "      <td>0.858773</td>\n",
              "    </tr>\n",
              "  </tbody>\n",
              "</table>\n",
              "</div>\n",
              "      <button class=\"colab-df-convert\" onclick=\"convertToInteractive('df-0fc26549-898a-46ea-bcd3-3adbe71b960d')\"\n",
              "              title=\"Convert this dataframe to an interactive table.\"\n",
              "              style=\"display:none;\">\n",
              "        \n",
              "  <svg xmlns=\"http://www.w3.org/2000/svg\" height=\"24px\"viewBox=\"0 0 24 24\"\n",
              "       width=\"24px\">\n",
              "    <path d=\"M0 0h24v24H0V0z\" fill=\"none\"/>\n",
              "    <path d=\"M18.56 5.44l.94 2.06.94-2.06 2.06-.94-2.06-.94-.94-2.06-.94 2.06-2.06.94zm-11 1L8.5 8.5l.94-2.06 2.06-.94-2.06-.94L8.5 2.5l-.94 2.06-2.06.94zm10 10l.94 2.06.94-2.06 2.06-.94-2.06-.94-.94-2.06-.94 2.06-2.06.94z\"/><path d=\"M17.41 7.96l-1.37-1.37c-.4-.4-.92-.59-1.43-.59-.52 0-1.04.2-1.43.59L10.3 9.45l-7.72 7.72c-.78.78-.78 2.05 0 2.83L4 21.41c.39.39.9.59 1.41.59.51 0 1.02-.2 1.41-.59l7.78-7.78 2.81-2.81c.8-.78.8-2.07 0-2.86zM5.41 20L4 18.59l7.72-7.72 1.47 1.35L5.41 20z\"/>\n",
              "  </svg>\n",
              "      </button>\n",
              "      \n",
              "  <style>\n",
              "    .colab-df-container {\n",
              "      display:flex;\n",
              "      flex-wrap:wrap;\n",
              "      gap: 12px;\n",
              "    }\n",
              "\n",
              "    .colab-df-convert {\n",
              "      background-color: #E8F0FE;\n",
              "      border: none;\n",
              "      border-radius: 50%;\n",
              "      cursor: pointer;\n",
              "      display: none;\n",
              "      fill: #1967D2;\n",
              "      height: 32px;\n",
              "      padding: 0 0 0 0;\n",
              "      width: 32px;\n",
              "    }\n",
              "\n",
              "    .colab-df-convert:hover {\n",
              "      background-color: #E2EBFA;\n",
              "      box-shadow: 0px 1px 2px rgba(60, 64, 67, 0.3), 0px 1px 3px 1px rgba(60, 64, 67, 0.15);\n",
              "      fill: #174EA6;\n",
              "    }\n",
              "\n",
              "    [theme=dark] .colab-df-convert {\n",
              "      background-color: #3B4455;\n",
              "      fill: #D2E3FC;\n",
              "    }\n",
              "\n",
              "    [theme=dark] .colab-df-convert:hover {\n",
              "      background-color: #434B5C;\n",
              "      box-shadow: 0px 1px 3px 1px rgba(0, 0, 0, 0.15);\n",
              "      filter: drop-shadow(0px 1px 2px rgba(0, 0, 0, 0.3));\n",
              "      fill: #FFFFFF;\n",
              "    }\n",
              "  </style>\n",
              "\n",
              "      <script>\n",
              "        const buttonEl =\n",
              "          document.querySelector('#df-0fc26549-898a-46ea-bcd3-3adbe71b960d button.colab-df-convert');\n",
              "        buttonEl.style.display =\n",
              "          google.colab.kernel.accessAllowed ? 'block' : 'none';\n",
              "\n",
              "        async function convertToInteractive(key) {\n",
              "          const element = document.querySelector('#df-0fc26549-898a-46ea-bcd3-3adbe71b960d');\n",
              "          const dataTable =\n",
              "            await google.colab.kernel.invokeFunction('convertToInteractive',\n",
              "                                                     [key], {});\n",
              "          if (!dataTable) return;\n",
              "\n",
              "          const docLinkHtml = 'Like what you see? Visit the ' +\n",
              "            '<a target=\"_blank\" href=https://colab.research.google.com/notebooks/data_table.ipynb>data table notebook</a>'\n",
              "            + ' to learn more about interactive tables.';\n",
              "          element.innerHTML = '';\n",
              "          dataTable['output_type'] = 'display_data';\n",
              "          await google.colab.output.renderOutput(dataTable, element);\n",
              "          const docLink = document.createElement('div');\n",
              "          docLink.innerHTML = docLinkHtml;\n",
              "          element.appendChild(docLink);\n",
              "        }\n",
              "      </script>\n",
              "    </div>\n",
              "  </div>\n",
              "  "
            ]
          },
          "metadata": {},
          "execution_count": 22
        }
      ]
    },
    {
      "cell_type": "markdown",
      "source": [
        "Os resultados indicaram que random forest foi o modelo mais  promissor entre os testados (com acurácia no conjunto teste de cerca de 90%) e constitui uma boa escolha para um estudo mais detalhado.\n",
        "\n",
        "Obs: Apesar das métricas obtidas no conjunto treino serem iguais a 1, as métrícas obtidas no conjunto teste não indicam presença de overfitting."
      ],
      "metadata": {
        "id": "JQdexveKOtJd"
      }
    },
    {
      "cell_type": "markdown",
      "source": [
        "# **Ajuste dos hiperpararâmetros do modelo selecionado - Random Forest**"
      ],
      "metadata": {
        "id": "9qT3HzkEltU6"
      }
    },
    {
      "cell_type": "markdown",
      "source": [
        "Para favorecer a execução mais rápida  deste notebook, fez-se a etapa de otimização (ajuste) dos hiperparâmetros em notebook separado.\n",
        "Os códigos comentados são exemplos de código utilizado nesta etapa.\n",
        "\n",
        "Obs: Esta etapa poderia ser refinada. Devido ao aspecto altamente combinatório deste tipo de problema, foi feita uma primeira otimização considerando apenas 2 variáveis (max_features e criterion). Obteve-se que o número de features a ser considerado ao procurar o melhor critério para divisão do nó é 7 das 8 entradas, e que a melhor maneira de avaliar a pureza do nó é a entropia. Testou-se então, com esses parâmetros fixados,  o melhor número de árvores do modelo (n_estimators) entre as opções (100, 200, e 300), obtendo-se n_estimators: 300.\n",
        "\n",
        "Em seguida, feita uma segunda otimização com o objetivo de tentar  podar as árvores da random forest, considerando os hiperparâmetros já definidos (max_features: 7, criterion: 'entropy', n_estimators: 300) e variando max_depth, min_samples_split e min_samples_leaf. Foi obtido que a profundidade ideal considerando os parâmetros já fixados é de 30 (ao invés de None), bem como que o número mínimo de amostras necessárias para dividir um nó interno e o número mínimo de amostras necessárias para um nó folha devem permanecer conforme o defaut do método (min_samples_split: 2, min_samples_leaf: 1)"
      ],
      "metadata": {
        "id": "6Q5jtRd5PVth"
      }
    },
    {
      "cell_type": "markdown",
      "source": [
        "### Códigos e respostas obtidas para os hiperparâmetros"
      ],
      "metadata": {
        "id": "cUxxkQDuTBBt"
      }
    },
    {
      "cell_type": "code",
      "source": [
        "# Hyperparâmetros defaut RandomForestClassifier\n",
        "'''\n",
        "n_estimators=100, *, criterion='gini', max_depth=None, min_samples_split=2, min_samples_leaf=1, min_weight_fraction_leaf=0.0, max_features='sqrt',\n",
        "max_leaf_nodes=None, min_impurity_decrease=0.0, bootstrap=True, oob_score=False, n_jobs=None, random_state=None, verbose=0, warm_start=False, class_weight=None, ccp_alpha=0.0, max_samples=None)\n",
        "'''\n",
        "\n",
        "### Teste 1:\n",
        "'''\n",
        "param_grid = {\n",
        "    'max_features': [2,3,4,5,6,7,8],\n",
        "    'criterion' :['gini', 'entropy']\n",
        "}\n",
        "\n",
        "CV_rf = GridSearchCV(\n",
        "    rf,\n",
        "    param_grid=param_grid,\n",
        "    cv=5,\n",
        "    scoring='roc_auc',\n",
        "    verbose=10, # if >3 : the fold and candidate parameter indexes are also displayed together with the starting time of the computation.\n",
        "    n_jobs=1, #Number of jobs to run in parallel.\n",
        ")\n",
        "#CV_rf = GridSearchCV(estimator=rf, param_grid=param_grid, cv= 5)\n",
        "CV_rf.fit(X_train, y_train)\n",
        "'''\n",
        "\n",
        "### Teste 2\n",
        "'''\n",
        "# Number of trees in random forest\n",
        "n_estimators=[300]\n",
        "\n",
        "# Number of features to consider at every split\n",
        "max_features = [7]\n",
        "\n",
        "# Maximum number of levels in tree\n",
        "max_depth = [int(x) for x in np.linspace(20, 110, num = 10)]\n",
        "max_depth.append(None)\n",
        "\n",
        "# Minimum number of samples required to split a node\n",
        "min_samples_split = [2, 5, 10]\n",
        "\n",
        "# Minimum number of samples required at each leaf node\n",
        "min_samples_leaf = [1, 2, 4]\n",
        "\n",
        "# Create the random grid\n",
        "random_grid = {'n_estimators': n_estimators,\n",
        "               'max_features': max_features,\n",
        "               'max_depth': max_depth,\n",
        "               'min_samples_split': min_samples_split,\n",
        "               'min_samples_leaf': min_samples_leaf,\n",
        "               }\n",
        "print(random_grid)\n",
        "'''"
      ],
      "metadata": {
        "id": "87XbrTF9l7cP",
        "colab": {
          "base_uri": "https://localhost:8080/",
          "height": 110
        },
        "outputId": "0f33fad2-0f72-44e4-8f8a-612c4443d8e9"
      },
      "execution_count": null,
      "outputs": [
        {
          "output_type": "execute_result",
          "data": {
            "text/plain": [
              "\"\\n# Number of trees in random forest\\nn_estimators=[300]\\n\\n# Number of features to consider at every split\\nmax_features = [7]\\n\\n# Maximum number of levels in tree\\nmax_depth = [int(x) for x in np.linspace(20, 110, num = 10)]\\nmax_depth.append(None)\\n\\n# Minimum number of samples required to split a node\\nmin_samples_split = [2, 5, 10]\\n\\n# Minimum number of samples required at each leaf node\\nmin_samples_leaf = [1, 2, 4]\\n\\n# Create the random grid\\nrandom_grid = {'n_estimators': n_estimators,\\n               'max_features': max_features,\\n               'max_depth': max_depth,\\n               'min_samples_split': min_samples_split,\\n               'min_samples_leaf': min_samples_leaf,\\n               }\\nprint(random_grid)\\n\""
            ],
            "application/vnd.google.colaboratory.intrinsic+json": {
              "type": "string"
            }
          },
          "metadata": {},
          "execution_count": 23
        }
      ]
    },
    {
      "cell_type": "code",
      "source": [
        "# Resposta obtida do  GridSearchCV (teste 1)\n",
        "'''\n",
        "{'criterion': 'entropy', 'max_features': 7}\n",
        "'''\n",
        "\n",
        "# Resposta obtida do RandomizedSearchCV (teste 2)\n",
        "'''\n",
        "{'bootstrap': True,\n",
        " 'max_depth': 30,\n",
        " 'max_features': 7,\n",
        " 'min_samples_leaf': 1,\n",
        " 'min_samples_split': 2,\n",
        " 'n_estimators': 300}\n",
        " '''"
      ],
      "metadata": {
        "id": "C6RjrbvhnbcB",
        "colab": {
          "base_uri": "https://localhost:8080/",
          "height": 36
        },
        "outputId": "2c5507d7-0e80-45f3-f926-e2c46b7e6599"
      },
      "execution_count": null,
      "outputs": [
        {
          "output_type": "execute_result",
          "data": {
            "text/plain": [
              "\"\\n{'bootstrap': True,\\n 'max_depth': 30,\\n 'max_features': 7,\\n 'min_samples_leaf': 1,\\n 'min_samples_split': 2,\\n 'n_estimators': 300}\\n \""
            ],
            "application/vnd.google.colaboratory.intrinsic+json": {
              "type": "string"
            }
          },
          "metadata": {},
          "execution_count": 24
        }
      ]
    },
    {
      "cell_type": "markdown",
      "source": [
        "### Modelo otimizado"
      ],
      "metadata": {
        "id": "fTzilcPcXYxP"
      }
    },
    {
      "cell_type": "code",
      "source": [
        "# Modelo com parâmetros otimizados\n",
        "\n",
        "rf_tun=RandomForestClassifier(random_state=111, max_features=7, criterion='entropy', max_depth= 30,n_estimators= 300) #defaut: n_estimators= 100 ; max_depthint:None ; min_samples_splitint: 2\n",
        "rf_tun.fit(X_train, y_train)\n",
        "y_pred = rf_tun.predict(X_test) #prediction step\n",
        "y_pred_train = rf_tun.predict(X_train) #prediction train step\n"
      ],
      "metadata": {
        "colab": {
          "base_uri": "https://localhost:8080/"
        },
        "id": "Ugve-kbrnb8L",
        "outputId": "899c36e9-28af-4980-f311-dc1f8e36e8bc"
      },
      "execution_count": null,
      "outputs": [
        {
          "output_type": "stream",
          "name": "stderr",
          "text": [
            "/usr/local/lib/python3.7/dist-packages/ipykernel_launcher.py:4: DataConversionWarning: A column-vector y was passed when a 1d array was expected. Please change the shape of y to (n_samples,), for example using ravel().\n",
            "  after removing the cwd from sys.path.\n"
          ]
        }
      ]
    },
    {
      "cell_type": "code",
      "source": [
        "print('**********  Avaliação das métricas do modelo random forest após otimização ***********')\n",
        "print('Conjunto Treino')\n",
        "print()\n",
        "print(\" Acurácia: {0:.5f}\".format(accuracy_score(y_train, y_pred_train)))\n",
        "print(\" Precisão: {0:.5f}\".format(precision_score(y_train, y_pred_train)))\n",
        "print(\"   Recall: {0:.5f}\".format(recall_score(y_train, y_pred_train)))\n",
        "print(\" f1 score: {0:.5f}\".format(f1_score(y_train, y_pred_train)))\n",
        "print()\n",
        "print('Conjunto Teste')\n",
        "print()\n",
        "print(\" Acurácia: {0:.5f}\".format(accuracy_score(y_test, y_pred)))\n",
        "print(\" Precisão: {0:.5f}\".format(precision_score(y_test, y_pred)))\n",
        "print(\"   Recall: {0:.5f}\".format(recall_score(y_test, y_pred)))\n",
        "print(\" f1 score: {0:.5f}\".format(f1_score(y_test, y_pred)))\n",
        "print()"
      ],
      "metadata": {
        "id": "dOUoa8ac9KRZ",
        "colab": {
          "base_uri": "https://localhost:8080/"
        },
        "outputId": "80fdb96a-20d5-45e9-947f-b52f9b200b2b"
      },
      "execution_count": null,
      "outputs": [
        {
          "output_type": "stream",
          "name": "stdout",
          "text": [
            "**********  Avaliação das métricas do modelo random forest após otimização ***********\n",
            "Conjunto Treino\n",
            "\n",
            " Acurácia: 1.00000\n",
            " Precisão: 1.00000\n",
            "   Recall: 1.00000\n",
            " f1 score: 1.00000\n",
            "\n",
            "Conjunto Teste\n",
            "\n",
            " Acurácia: 0.92762\n",
            " Precisão: 0.92157\n",
            "   Recall: 0.90620\n",
            " f1 score: 0.91382\n",
            "\n"
          ]
        }
      ]
    },
    {
      "cell_type": "markdown",
      "source": [
        "Após a otimização, a acurácia do modelo passou de cerca de 90,4% para 92,8% no conjunto\n",
        "teste, representando um ganho superior a 2%\n",
        "\n",
        "\n"
      ],
      "metadata": {
        "id": "UBsKxC1V8H4s"
      }
    },
    {
      "cell_type": "markdown",
      "source": [
        "# **Features Selection**"
      ],
      "metadata": {
        "id": "cZs_ENDmEL1N"
      }
    },
    {
      "cell_type": "code",
      "source": [
        "# Entendimento do efeito das variáveis de entrada\n",
        "\n",
        "print('*********** Efeito das variáveis de entrada (features)  ***********')\n",
        "print()\n",
        "ft_imp = pd.Series(rf_tun.feature_importances_).sort_values(ascending=False) #obtenção dos efeitos\n",
        "#Renomenando os índices:\n",
        "df=pd.DataFrame(ft_imp)\n",
        "df.index = X.columns[ft_imp.index]\n",
        "#Renomeando a coluna:\n",
        "df.columns=['Effect']\n",
        "df"
      ],
      "metadata": {
        "id": "X-MYNUlIEuWG",
        "colab": {
          "base_uri": "https://localhost:8080/",
          "height": 337
        },
        "outputId": "ae6285dc-43ff-4a67-d4a0-b0e98c6b8b42"
      },
      "execution_count": null,
      "outputs": [
        {
          "output_type": "stream",
          "name": "stdout",
          "text": [
            "*********** Efeito das variáveis de entrada (features)  ***********\n",
            "\n"
          ]
        },
        {
          "output_type": "execute_result",
          "data": {
            "text/plain": [
              "             Effect\n",
              "nswprice   0.345386\n",
              "date       0.247993\n",
              "nswdemand  0.111184\n",
              "period     0.079004\n",
              "day        0.065163\n",
              "vicprice   0.057700\n",
              "vicdemand  0.046984\n",
              "transfer   0.046586"
            ],
            "text/html": [
              "\n",
              "  <div id=\"df-13440cc3-0d86-4e63-98e1-7e768e2e3a61\">\n",
              "    <div class=\"colab-df-container\">\n",
              "      <div>\n",
              "<style scoped>\n",
              "    .dataframe tbody tr th:only-of-type {\n",
              "        vertical-align: middle;\n",
              "    }\n",
              "\n",
              "    .dataframe tbody tr th {\n",
              "        vertical-align: top;\n",
              "    }\n",
              "\n",
              "    .dataframe thead th {\n",
              "        text-align: right;\n",
              "    }\n",
              "</style>\n",
              "<table border=\"1\" class=\"dataframe\">\n",
              "  <thead>\n",
              "    <tr style=\"text-align: right;\">\n",
              "      <th></th>\n",
              "      <th>Effect</th>\n",
              "    </tr>\n",
              "  </thead>\n",
              "  <tbody>\n",
              "    <tr>\n",
              "      <th>nswprice</th>\n",
              "      <td>0.345386</td>\n",
              "    </tr>\n",
              "    <tr>\n",
              "      <th>date</th>\n",
              "      <td>0.247993</td>\n",
              "    </tr>\n",
              "    <tr>\n",
              "      <th>nswdemand</th>\n",
              "      <td>0.111184</td>\n",
              "    </tr>\n",
              "    <tr>\n",
              "      <th>period</th>\n",
              "      <td>0.079004</td>\n",
              "    </tr>\n",
              "    <tr>\n",
              "      <th>day</th>\n",
              "      <td>0.065163</td>\n",
              "    </tr>\n",
              "    <tr>\n",
              "      <th>vicprice</th>\n",
              "      <td>0.057700</td>\n",
              "    </tr>\n",
              "    <tr>\n",
              "      <th>vicdemand</th>\n",
              "      <td>0.046984</td>\n",
              "    </tr>\n",
              "    <tr>\n",
              "      <th>transfer</th>\n",
              "      <td>0.046586</td>\n",
              "    </tr>\n",
              "  </tbody>\n",
              "</table>\n",
              "</div>\n",
              "      <button class=\"colab-df-convert\" onclick=\"convertToInteractive('df-13440cc3-0d86-4e63-98e1-7e768e2e3a61')\"\n",
              "              title=\"Convert this dataframe to an interactive table.\"\n",
              "              style=\"display:none;\">\n",
              "        \n",
              "  <svg xmlns=\"http://www.w3.org/2000/svg\" height=\"24px\"viewBox=\"0 0 24 24\"\n",
              "       width=\"24px\">\n",
              "    <path d=\"M0 0h24v24H0V0z\" fill=\"none\"/>\n",
              "    <path d=\"M18.56 5.44l.94 2.06.94-2.06 2.06-.94-2.06-.94-.94-2.06-.94 2.06-2.06.94zm-11 1L8.5 8.5l.94-2.06 2.06-.94-2.06-.94L8.5 2.5l-.94 2.06-2.06.94zm10 10l.94 2.06.94-2.06 2.06-.94-2.06-.94-.94-2.06-.94 2.06-2.06.94z\"/><path d=\"M17.41 7.96l-1.37-1.37c-.4-.4-.92-.59-1.43-.59-.52 0-1.04.2-1.43.59L10.3 9.45l-7.72 7.72c-.78.78-.78 2.05 0 2.83L4 21.41c.39.39.9.59 1.41.59.51 0 1.02-.2 1.41-.59l7.78-7.78 2.81-2.81c.8-.78.8-2.07 0-2.86zM5.41 20L4 18.59l7.72-7.72 1.47 1.35L5.41 20z\"/>\n",
              "  </svg>\n",
              "      </button>\n",
              "      \n",
              "  <style>\n",
              "    .colab-df-container {\n",
              "      display:flex;\n",
              "      flex-wrap:wrap;\n",
              "      gap: 12px;\n",
              "    }\n",
              "\n",
              "    .colab-df-convert {\n",
              "      background-color: #E8F0FE;\n",
              "      border: none;\n",
              "      border-radius: 50%;\n",
              "      cursor: pointer;\n",
              "      display: none;\n",
              "      fill: #1967D2;\n",
              "      height: 32px;\n",
              "      padding: 0 0 0 0;\n",
              "      width: 32px;\n",
              "    }\n",
              "\n",
              "    .colab-df-convert:hover {\n",
              "      background-color: #E2EBFA;\n",
              "      box-shadow: 0px 1px 2px rgba(60, 64, 67, 0.3), 0px 1px 3px 1px rgba(60, 64, 67, 0.15);\n",
              "      fill: #174EA6;\n",
              "    }\n",
              "\n",
              "    [theme=dark] .colab-df-convert {\n",
              "      background-color: #3B4455;\n",
              "      fill: #D2E3FC;\n",
              "    }\n",
              "\n",
              "    [theme=dark] .colab-df-convert:hover {\n",
              "      background-color: #434B5C;\n",
              "      box-shadow: 0px 1px 3px 1px rgba(0, 0, 0, 0.15);\n",
              "      filter: drop-shadow(0px 1px 2px rgba(0, 0, 0, 0.3));\n",
              "      fill: #FFFFFF;\n",
              "    }\n",
              "  </style>\n",
              "\n",
              "      <script>\n",
              "        const buttonEl =\n",
              "          document.querySelector('#df-13440cc3-0d86-4e63-98e1-7e768e2e3a61 button.colab-df-convert');\n",
              "        buttonEl.style.display =\n",
              "          google.colab.kernel.accessAllowed ? 'block' : 'none';\n",
              "\n",
              "        async function convertToInteractive(key) {\n",
              "          const element = document.querySelector('#df-13440cc3-0d86-4e63-98e1-7e768e2e3a61');\n",
              "          const dataTable =\n",
              "            await google.colab.kernel.invokeFunction('convertToInteractive',\n",
              "                                                     [key], {});\n",
              "          if (!dataTable) return;\n",
              "\n",
              "          const docLinkHtml = 'Like what you see? Visit the ' +\n",
              "            '<a target=\"_blank\" href=https://colab.research.google.com/notebooks/data_table.ipynb>data table notebook</a>'\n",
              "            + ' to learn more about interactive tables.';\n",
              "          element.innerHTML = '';\n",
              "          dataTable['output_type'] = 'display_data';\n",
              "          await google.colab.output.renderOutput(dataTable, element);\n",
              "          const docLink = document.createElement('div');\n",
              "          docLink.innerHTML = docLinkHtml;\n",
              "          element.appendChild(docLink);\n",
              "        }\n",
              "      </script>\n",
              "    </div>\n",
              "  </div>\n",
              "  "
            ]
          },
          "metadata": {},
          "execution_count": 27
        }
      ]
    },
    {
      "cell_type": "code",
      "source": [
        "X_ord = X[df.index]"
      ],
      "metadata": {
        "id": "93Ss35raHy-q"
      },
      "execution_count": null,
      "outputs": []
    },
    {
      "cell_type": "code",
      "source": [
        "#X_ord"
      ],
      "metadata": {
        "id": "uyJMTSoeIFnk"
      },
      "execution_count": null,
      "outputs": []
    },
    {
      "cell_type": "markdown",
      "source": [
        "Pode-se observar que o efeitos das features têm seus valores e ordem alterada com o modelo random forest antes e após a otimização dos parâmetros. Assim a otimização favorece uma melhor avaliação da importância das variáveis no estudo de caso e também pode impactar na seleção das mesmas para a construção de um modelo que melhor represente os dados."
      ],
      "metadata": {
        "id": "AIS3VM8jXHRH"
      }
    },
    {
      "cell_type": "code",
      "source": [
        "# Vizualição da importância das Features\n",
        "\n",
        "df1=df.sort_values(by=['Effect'], ascending=True) # sort in ascending order for plot\n",
        "\n",
        "font = {'weight' : 'bold',\n",
        "        'size'   : 12}\n",
        "\n",
        "plt.rc('font', **font)\n",
        "plt.rcParams['figure.figsize'] = [12, 6]\n",
        "\n",
        "df1.plot(kind='barh', color='lightsteelblue')\n",
        "plt.title('Features com seus respectivos efeitos')\n",
        "plt.ylabel('Feature')\n",
        "plt.xlabel('Efeito')"
      ],
      "metadata": {
        "id": "bQ3m7Tj3EoGJ",
        "colab": {
          "base_uri": "https://localhost:8080/",
          "height": 429
        },
        "outputId": "68ecb337-6f8f-4ae6-90d7-675b0dbf9a94"
      },
      "execution_count": null,
      "outputs": [
        {
          "output_type": "execute_result",
          "data": {
            "text/plain": [
              "Text(0.5, 0, 'Efeito')"
            ]
          },
          "metadata": {},
          "execution_count": 36
        },
        {
          "output_type": "display_data",
          "data": {
            "text/plain": [
              "<Figure size 864x432 with 1 Axes>"
            ],
            "image/png": "[encoded data removed]"
          },
          "metadata": {
            "needs_background": "light"
          }
        }
      ]
    },
    {
      "cell_type": "code",
      "source": [
        "# Seleção das variáveis\n",
        "\n",
        "def selectFEATURES(Xscale, yscale):\n",
        "  features=Xscale.shape[1]\n",
        "  X_train, X_test, y_train, y_test = \\\n",
        "      train_test_split(Xscale, yscale, test_size=0.30,  random_state=111, shuffle=True) # ps: shuffle= True default\n",
        "  rf_tun=RandomForestClassifier(random_state=111, max_features=features,criterion='entropy',max_depth= 30,n_estimators= 300)\n",
        "  rf_tun.fit(X_train, y_train)\n",
        "  y_pred_test = rf_tun.predict(X_test) #prediction step\n",
        "  y_pred_train = rf_tun.predict(X_train) #prediction train step\n",
        "\n",
        "  return y_pred_train, y_pred_test\n",
        "\n",
        "scaler_y = MinMaxScaler().fit(y)\n",
        "yscale=scaler_y.transform(y)\n",
        "scaler_x = MinMaxScaler().fit(X_ord)\n",
        "XscaleALL=scaler_x.transform(X_ord)\n",
        "acc_train = []; acc_test = []\n",
        "precision_train=[]; precision_test=[]\n",
        "recall_train=[]; recall_test=[]\n",
        "f1_train=[]; f1_test=[]\n",
        "best_feat = []\n",
        "\n",
        "for features in range(2,9):\n",
        "  Xscale = XscaleALL[:,:features]  # Selecionando as melhores features (Número total= 8)\n",
        "  predict_train, predict_test = selectFEATURES(Xscale, yscale)\n",
        "  best_feat.append(features)\n",
        "  acc_train.append(accuracy_score(y_train, predict_train))\n",
        "  acc_test.append(accuracy_score(y_test, predict_test))\n",
        "  precision_train.append(precision_score(y_train, predict_train))\n",
        "  precision_test.append(precision_score(y_test, predict_test))\n",
        "  recall_train.append(recall_score(y_train, predict_train))\n",
        "  recall_test.append(recall_score(y_test, predict_test))\n",
        "  f1_train.append(f1_score(y_train, predict_train))\n",
        "  f1_test.append(f1_score(y_test, predict_test))\n",
        "\n",
        "df1 =pd.DataFrame({'Features':best_feat, 'train acc':acc_train,\n",
        "                 'test acc':acc_test,'train prec':precision_train,\n",
        "                  'test prec':precision_test, 'train recall':recall_train,\n",
        "                  'test recall':recall_test, 'train f1':f1_train,\n",
        "                  'test f1':f1_test } )"
      ],
      "metadata": {
        "id": "PQo1-YE0I_Ah",
        "colab": {
          "base_uri": "https://localhost:8080/"
        },
        "outputId": "ad8c81e2-ce85-4d4a-97b3-d6396e2b9283"
      },
      "execution_count": null,
      "outputs": [
        {
          "output_type": "stream",
          "name": "stderr",
          "text": [
            "/usr/local/lib/python3.7/dist-packages/ipykernel_launcher.py:7: DataConversionWarning: A column-vector y was passed when a 1d array was expected. Please change the shape of y to (n_samples,), for example using ravel().\n",
            "  import sys\n",
            "/usr/local/lib/python3.7/dist-packages/ipykernel_launcher.py:7: DataConversionWarning: A column-vector y was passed when a 1d array was expected. Please change the shape of y to (n_samples,), for example using ravel().\n",
            "  import sys\n",
            "/usr/local/lib/python3.7/dist-packages/ipykernel_launcher.py:7: DataConversionWarning: A column-vector y was passed when a 1d array was expected. Please change the shape of y to (n_samples,), for example using ravel().\n",
            "  import sys\n",
            "/usr/local/lib/python3.7/dist-packages/ipykernel_launcher.py:7: DataConversionWarning: A column-vector y was passed when a 1d array was expected. Please change the shape of y to (n_samples,), for example using ravel().\n",
            "  import sys\n",
            "/usr/local/lib/python3.7/dist-packages/ipykernel_launcher.py:7: DataConversionWarning: A column-vector y was passed when a 1d array was expected. Please change the shape of y to (n_samples,), for example using ravel().\n",
            "  import sys\n",
            "/usr/local/lib/python3.7/dist-packages/ipykernel_launcher.py:7: DataConversionWarning: A column-vector y was passed when a 1d array was expected. Please change the shape of y to (n_samples,), for example using ravel().\n",
            "  import sys\n",
            "/usr/local/lib/python3.7/dist-packages/ipykernel_launcher.py:7: DataConversionWarning: A column-vector y was passed when a 1d array was expected. Please change the shape of y to (n_samples,), for example using ravel().\n",
            "  import sys\n"
          ]
        }
      ]
    },
    {
      "cell_type": "code",
      "source": [
        "df1"
      ],
      "metadata": {
        "id": "Y_Es7qtmzr4e",
        "colab": {
          "base_uri": "https://localhost:8080/",
          "height": 269
        },
        "outputId": "d64fc4de-5032-4ce6-cc0f-a156930c5ea1"
      },
      "execution_count": null,
      "outputs": [
        {
          "output_type": "execute_result",
          "data": {
            "text/plain": [
              "   Features  train acc  test acc  train prec  test prec  train recall  \\\n",
              "0         2   0.985907  0.924526    0.983958   0.914201      0.982864   \n",
              "1         3   0.999937  0.918935    0.999926   0.912897      0.999926   \n",
              "2         4   1.000000  0.919156    1.000000   0.911339      1.000000   \n",
              "3         5   1.000000  0.933206    1.000000   0.927526      1.000000   \n",
              "4         6   1.000000  0.930778    1.000000   0.924691      1.000000   \n",
              "5         7   1.000000  0.929896    1.000000   0.923036      1.000000   \n",
              "6         8   1.000000  0.928277    1.000000   0.922289      1.000000   \n",
              "\n",
              "   test recall  train f1   test f1  \n",
              "0     0.906896  0.983411  0.910534  \n",
              "1     0.893868  0.999926  0.903282  \n",
              "2     0.896300  1.000000  0.903757  \n",
              "3     0.913670  1.000000  0.920546  \n",
              "4     0.910717  1.000000  0.917651  \n",
              "5     0.910370  1.000000  0.916659  \n",
              "6     0.907070  1.000000  0.914616  "
            ],
            "text/html": [
              "\n",
              "  <div id=\"df-2ed9a939-62ed-40e7-9812-f4d4858d741d\">\n",
              "    <div class=\"colab-df-container\">\n",
              "      <div>\n",
              "<style scoped>\n",
              "    .dataframe tbody tr th:only-of-type {\n",
              "        vertical-align: middle;\n",
              "    }\n",
              "\n",
              "    .dataframe tbody tr th {\n",
              "        vertical-align: top;\n",
              "    }\n",
              "\n",
              "    .dataframe thead th {\n",
              "        text-align: right;\n",
              "    }\n",
              "</style>\n",
              "<table border=\"1\" class=\"dataframe\">\n",
              "  <thead>\n",
              "    <tr style=\"text-align: right;\">\n",
              "      <th></th>\n",
              "      <th>Features</th>\n",
              "      <th>train acc</th>\n",
              "      <th>test acc</th>\n",
              "      <th>train prec</th>\n",
              "      <th>test prec</th>\n",
              "      <th>train recall</th>\n",
              "      <th>test recall</th>\n",
              "      <th>train f1</th>\n",
              "      <th>test f1</th>\n",
              "    </tr>\n",
              "  </thead>\n",
              "  <tbody>\n",
              "    <tr>\n",
              "      <th>0</th>\n",
              "      <td>2</td>\n",
              "      <td>0.985907</td>\n",
              "      <td>0.924526</td>\n",
              "      <td>0.983958</td>\n",
              "      <td>0.914201</td>\n",
              "      <td>0.982864</td>\n",
              "      <td>0.906896</td>\n",
              "      <td>0.983411</td>\n",
              "      <td>0.910534</td>\n",
              "    </tr>\n",
              "    <tr>\n",
              "      <th>1</th>\n",
              "      <td>3</td>\n",
              "      <td>0.999937</td>\n",
              "      <td>0.918935</td>\n",
              "      <td>0.999926</td>\n",
              "      <td>0.912897</td>\n",
              "      <td>0.999926</td>\n",
              "      <td>0.893868</td>\n",
              "      <td>0.999926</td>\n",
              "      <td>0.903282</td>\n",
              "    </tr>\n",
              "    <tr>\n",
              "      <th>2</th>\n",
              "      <td>4</td>\n",
              "      <td>1.000000</td>\n",
              "      <td>0.919156</td>\n",
              "      <td>1.000000</td>\n",
              "      <td>0.911339</td>\n",
              "      <td>1.000000</td>\n",
              "      <td>0.896300</td>\n",
              "      <td>1.000000</td>\n",
              "      <td>0.903757</td>\n",
              "    </tr>\n",
              "    <tr>\n",
              "      <th>3</th>\n",
              "      <td>5</td>\n",
              "      <td>1.000000</td>\n",
              "      <td>0.933206</td>\n",
              "      <td>1.000000</td>\n",
              "      <td>0.927526</td>\n",
              "      <td>1.000000</td>\n",
              "      <td>0.913670</td>\n",
              "      <td>1.000000</td>\n",
              "      <td>0.920546</td>\n",
              "    </tr>\n",
              "    <tr>\n",
              "      <th>4</th>\n",
              "      <td>6</td>\n",
              "      <td>1.000000</td>\n",
              "      <td>0.930778</td>\n",
              "      <td>1.000000</td>\n",
              "      <td>0.924691</td>\n",
              "      <td>1.000000</td>\n",
              "      <td>0.910717</td>\n",
              "      <td>1.000000</td>\n",
              "      <td>0.917651</td>\n",
              "    </tr>\n",
              "    <tr>\n",
              "      <th>5</th>\n",
              "      <td>7</td>\n",
              "      <td>1.000000</td>\n",
              "      <td>0.929896</td>\n",
              "      <td>1.000000</td>\n",
              "      <td>0.923036</td>\n",
              "      <td>1.000000</td>\n",
              "      <td>0.910370</td>\n",
              "      <td>1.000000</td>\n",
              "      <td>0.916659</td>\n",
              "    </tr>\n",
              "    <tr>\n",
              "      <th>6</th>\n",
              "      <td>8</td>\n",
              "      <td>1.000000</td>\n",
              "      <td>0.928277</td>\n",
              "      <td>1.000000</td>\n",
              "      <td>0.922289</td>\n",
              "      <td>1.000000</td>\n",
              "      <td>0.907070</td>\n",
              "      <td>1.000000</td>\n",
              "      <td>0.914616</td>\n",
              "    </tr>\n",
              "  </tbody>\n",
              "</table>\n",
              "</div>\n",
              "      <button class=\"colab-df-convert\" onclick=\"convertToInteractive('df-2ed9a939-62ed-40e7-9812-f4d4858d741d')\"\n",
              "              title=\"Convert this dataframe to an interactive table.\"\n",
              "              style=\"display:none;\">\n",
              "        \n",
              "  <svg xmlns=\"http://www.w3.org/2000/svg\" height=\"24px\"viewBox=\"0 0 24 24\"\n",
              "       width=\"24px\">\n",
              "    <path d=\"M0 0h24v24H0V0z\" fill=\"none\"/>\n",
              "    <path d=\"M18.56 5.44l.94 2.06.94-2.06 2.06-.94-2.06-.94-.94-2.06-.94 2.06-2.06.94zm-11 1L8.5 8.5l.94-2.06 2.06-.94-2.06-.94L8.5 2.5l-.94 2.06-2.06.94zm10 10l.94 2.06.94-2.06 2.06-.94-2.06-.94-.94-2.06-.94 2.06-2.06.94z\"/><path d=\"M17.41 7.96l-1.37-1.37c-.4-.4-.92-.59-1.43-.59-.52 0-1.04.2-1.43.59L10.3 9.45l-7.72 7.72c-.78.78-.78 2.05 0 2.83L4 21.41c.39.39.9.59 1.41.59.51 0 1.02-.2 1.41-.59l7.78-7.78 2.81-2.81c.8-.78.8-2.07 0-2.86zM5.41 20L4 18.59l7.72-7.72 1.47 1.35L5.41 20z\"/>\n",
              "  </svg>\n",
              "      </button>\n",
              "      \n",
              "  <style>\n",
              "    .colab-df-container {\n",
              "      display:flex;\n",
              "      flex-wrap:wrap;\n",
              "      gap: 12px;\n",
              "    }\n",
              "\n",
              "    .colab-df-convert {\n",
              "      background-color: #E8F0FE;\n",
              "      border: none;\n",
              "      border-radius: 50%;\n",
              "      cursor: pointer;\n",
              "      display: none;\n",
              "      fill: #1967D2;\n",
              "      height: 32px;\n",
              "      padding: 0 0 0 0;\n",
              "      width: 32px;\n",
              "    }\n",
              "\n",
              "    .colab-df-convert:hover {\n",
              "      background-color: #E2EBFA;\n",
              "      box-shadow: 0px 1px 2px rgba(60, 64, 67, 0.3), 0px 1px 3px 1px rgba(60, 64, 67, 0.15);\n",
              "      fill: #174EA6;\n",
              "    }\n",
              "\n",
              "    [theme=dark] .colab-df-convert {\n",
              "      background-color: #3B4455;\n",
              "      fill: #D2E3FC;\n",
              "    }\n",
              "\n",
              "    [theme=dark] .colab-df-convert:hover {\n",
              "      background-color: #434B5C;\n",
              "      box-shadow: 0px 1px 3px 1px rgba(0, 0, 0, 0.15);\n",
              "      filter: drop-shadow(0px 1px 2px rgba(0, 0, 0, 0.3));\n",
              "      fill: #FFFFFF;\n",
              "    }\n",
              "  </style>\n",
              "\n",
              "      <script>\n",
              "        const buttonEl =\n",
              "          document.querySelector('#df-2ed9a939-62ed-40e7-9812-f4d4858d741d button.colab-df-convert');\n",
              "        buttonEl.style.display =\n",
              "          google.colab.kernel.accessAllowed ? 'block' : 'none';\n",
              "\n",
              "        async function convertToInteractive(key) {\n",
              "          const element = document.querySelector('#df-2ed9a939-62ed-40e7-9812-f4d4858d741d');\n",
              "          const dataTable =\n",
              "            await google.colab.kernel.invokeFunction('convertToInteractive',\n",
              "                                                     [key], {});\n",
              "          if (!dataTable) return;\n",
              "\n",
              "          const docLinkHtml = 'Like what you see? Visit the ' +\n",
              "            '<a target=\"_blank\" href=https://colab.research.google.com/notebooks/data_table.ipynb>data table notebook</a>'\n",
              "            + ' to learn more about interactive tables.';\n",
              "          element.innerHTML = '';\n",
              "          dataTable['output_type'] = 'display_data';\n",
              "          await google.colab.output.renderOutput(dataTable, element);\n",
              "          const docLink = document.createElement('div');\n",
              "          docLink.innerHTML = docLinkHtml;\n",
              "          element.appendChild(docLink);\n",
              "        }\n",
              "      </script>\n",
              "    </div>\n",
              "  </div>\n",
              "  "
            ]
          },
          "metadata": {},
          "execution_count": 32
        }
      ]
    },
    {
      "cell_type": "markdown",
      "source": [
        "Da seleção das variáveis de entrada, observa-se que o modelo com as 5 features de maior efeito (nswprice, date, nswdemand, period e day) apresentou a melhor acurácia.\n",
        "\n",
        "Após a etapa de feature selection, a acurácia do melhor modelo passou de  92,8% para 93,3% no conjunto teste, representando um ganho de a 0,5% em relação ao modelo pós otimização e cerca de 3% em relação ao modelo com os parâmetros defaut.\n",
        "\n",
        "Se o tempo computacional \\ simplicidade for um fator relevante, poderia-se selecionar o modelo com apenas 2 variáveis, o qual possui uma acurácia acima de 92%.\n",
        "\n",
        "Obs: Não foram fornecidos informações descrevendo as variáveis, sem isso não é possível considerar o entendimento do negócio para fazer uma análise mais detalhada."
      ],
      "metadata": {
        "id": "U1qRurjB9S7W"
      }
    }
  ]
}